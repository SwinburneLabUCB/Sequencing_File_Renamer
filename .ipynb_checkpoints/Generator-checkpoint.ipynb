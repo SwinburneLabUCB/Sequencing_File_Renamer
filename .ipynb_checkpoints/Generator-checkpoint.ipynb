{
 "cells": [
  {
   "cell_type": "code",
   "execution_count": 2,
   "id": "a4ebef1a-0b1f-4434-95b0-89118724e5bb",
   "metadata": {},
   "outputs": [],
   "source": [
    "import csv\n",
    "import ipywidgets as widgets"
   ]
  },
  {
   "cell_type": "code",
   "execution_count": 3,
   "id": "eaf120af-526b-422b-abca-63d9fe4c7d39",
   "metadata": {},
   "outputs": [],
   "source": [
    "def generate_csv(dict, output_path, append=True): \n",
    "    \"\"\"    \n",
    "    generates a csv to output_path to organize sequencing prep based on dict. dict should come from generate_dict. \n",
    "    returns nx2 matrix of indexes and final files names\n",
    "    \"\"\"\n",
    "    \n",
    "    # TODO: maybe use pandas for csv writing to simplify code\n",
    "    \n",
    "    header = dict['header']\n",
    "    matrix = []\n",
    "    index = 1\n",
    "    for i in range(len(dict['genes'])): \n",
    "        for j in range(len(dict['clones'])): \n",
    "            for k in range(len(dict['clones'][j])): \n",
    "                matrix.append([dict['base'], index, dict['genes'][i], dict['clones'][j][k], dict['oligos'][j][k]])\n",
    "                index += 1\n",
    "    edit = \"a\" if append else \"w\"\n",
    "    csv_file = open(output_path, edit)\n",
    "    csvwriter = csv.writer(csv_file)\n",
    "    if not append: \n",
    "        csvwriter.writerow(header)\n",
    "    csvwriter.writerows(matrix)\n",
    "    csv_file.close()\n",
    "    \n",
    "    return generate_names(matrix)\n",
    "\n",
    "            "
   ]
  },
  {
   "cell_type": "code",
   "execution_count": 4,
   "id": "3a9bffcb-db09-436d-b20b-b4fde6f0bf01",
   "metadata": {},
   "outputs": [],
   "source": [
    "def generate_dict(base, genes, clones, oligos, oligos_first=False, same_last=False): \n",
    "    \"\"\"\n",
    "    generates dict to pass into generate_csv()\n",
    "    \n",
    "    examples/info for inputs: \n",
    "        base: string\n",
    "        genes: [gene1, gene2...]\n",
    "        clones: [[1-3], [4-6]...] (must match genes, may want to automate this somehow)\n",
    "        oligos: [[2, 3, 4], [2, 6, 7]...] (dimensions must match clones)\n",
    "        clones_first: if true, clones higher in heirarchy than oligos. \n",
    "        same_oligos: if true, oligos can just be [24, 5, 3] and assume applies to all sets of clones\n",
    "    \"\"\"\n",
    "    result = {};\n",
    "    if not oligos_first: \n",
    "        result['header'] = ['base', 'index', 'gene', 'clone', 'oligo']\n",
    "        if not same_last: \n",
    "            result['clones'] = clones\n",
    "            result['oligos'] = oligos\n",
    "        else: \n",
    "            result['clones'], result['oligos'] = [], []\n",
    "            for i in range(len(clones)):\n",
    "                temp_clones, temp_oligos = [], []\n",
    "                for j in range(len(oligos)): \n",
    "                    temp_clones.append(clones[i])\n",
    "                    temp_oligos.append(oligos[j])\n",
    "                result['clones'].append(temp_clones)\n",
    "                result['oligos'].append(temp_oligos)\n",
    "                    \n",
    "    else: \n",
    "        result['header'] = ['base', 'index', 'gene', 'oligo', 'clone']\n",
    "        if not same_last: \n",
    "            result['oligos'] = clones\n",
    "            result['clones'] = oligos\n",
    "        else: \n",
    "            result['oligos'], result['clones'] = [], []\n",
    "            for i in range(len(oligos)):\n",
    "                temp_clones, temp_oligos = [], []\n",
    "                for j in range(len(clones)): \n",
    "                    temp_clones.append(oligos[i])\n",
    "                    temp_oligos.append(clones[j])\n",
    "                result['clones'].append(temp_clones)\n",
    "                result['oligos'].append(temp_oligos)\n",
    "    \n",
    "    result['base'] = base\n",
    "    result['genes'] = genes\n",
    "    \n",
    "    \n",
    "    \n",
    "    return result"
   ]
  },
  {
   "cell_type": "code",
   "execution_count": 5,
   "id": "574799c1-5bb2-4dad-ab43-ce30dc1eee3a",
   "metadata": {},
   "outputs": [],
   "source": [
    "def generate_names(matrix): \n",
    "    \"\"\"\n",
    "    returns a nx2 matrix of indexes + names from matrix of name elements\n",
    "    \"\"\"\n",
    "    result = []\n",
    "    for row in matrix: \n",
    "        name = \"\"\n",
    "        index = 0\n",
    "        for col in row:\n",
    "            if index == 1: \n",
    "                index += 1\n",
    "                continue\n",
    "            if index == len(row)-1: \n",
    "                name+='_seq_'\n",
    "            name += str(col)\n",
    "            index += 1\n",
    "        result.append([row[1], str(row[1])+'_'+name])\n",
    "    return result\n",
    "        "
   ]
  },
  {
   "cell_type": "code",
   "execution_count": 16,
   "id": "5e2bb4cf-1a34-41f1-bc19-5b2238eb75f3",
   "metadata": {},
   "outputs": [],
   "source": [
    "def write_csv(csv_path, matrix): \n",
    "    \"\"\"\n",
    "    writes naming matrix to csv\n",
    "    \"\"\"\n",
    "    \n",
    "    csv_file = open(csv_path, \"w\")\n",
    "    csvwriter = csv.writer(csv_file)\n",
    "    csvwriter.writerow([\"index\", \"name\"])\n",
    "    csvwriter.writerows(matrix)\n",
    "    csv_file.close()"
   ]
  },
  {
   "cell_type": "code",
   "execution_count": 13,
   "id": "62218d79-2e0d-4b23-aa87-9e85937148fb",
   "metadata": {},
   "outputs": [],
   "source": [
    "#widgets.interact_manual(generate_dict, base=\"\", genes=\"\", clones=\"\", oligos=\"\")"
   ]
  },
  {
   "cell_type": "code",
   "execution_count": 18,
   "id": "204d411c-8a8a-4ee8-a380-0ff7c6f7f9c9",
   "metadata": {},
   "outputs": [],
   "source": [
    "\n",
    "dict = generate_dict('20220303', \n",
    "                     ['arpc3-mNG_homozygote_knockins_'],\n",
    "                     ['amp_213_215' for x in range(7)],\n",
    "                     [215, 13, 99, 100, 43, 41, 220, 213],\n",
    "                     oligos_first=False,\n",
    "                     same_last=True)\n",
    "matrix = generate_csv(dict, \"Test Data/name_ref.csv\", append=False)\n",
    "# should be writing to a diff csv (so reference and naming csv different), just writing to same one for testing purposes\n",
    "write_csv(\"Test Data/name_ref.csv\", matrix)"
   ]
  },
  {
   "cell_type": "code",
   "execution_count": null,
   "id": "dd61d3d2-099b-42a1-ab78-df07f00dc2fa",
   "metadata": {},
   "outputs": [],
   "source": []
  }
 ],
 "metadata": {
  "kernelspec": {
   "display_name": "Python 3 (ipykernel)",
   "language": "python",
   "name": "python3"
  },
  "language_info": {
   "codemirror_mode": {
    "name": "ipython",
    "version": 3
   },
   "file_extension": ".py",
   "mimetype": "text/x-python",
   "name": "python",
   "nbconvert_exporter": "python",
   "pygments_lexer": "ipython3",
   "version": "3.9.10"
  }
 },
 "nbformat": 4,
 "nbformat_minor": 5
}
