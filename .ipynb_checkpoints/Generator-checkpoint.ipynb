{
 "cells": [
  {
   "cell_type": "markdown",
   "id": "a44e2250-8041-4db4-ad36-03c01e4d9f45",
   "metadata": {},
   "source": [
    "# Generator\n",
    "\n",
    "## Evan Huang, Swinburne Lab, UC Berkeley\n",
    "\n",
    "This program aims to assist with organization of DNA Sequencing by generating 2 .csv files: one containing data for all samples based on each sample's metadata, and a renaming file meant to be used in conjunuction with the Sequencing File Renamer. "
   ]
  },
  {
   "cell_type": "code",
   "execution_count": 24,
   "id": "a4ebef1a-0b1f-4434-95b0-89118724e5bb",
   "metadata": {},
   "outputs": [],
   "source": [
    "import csv\n",
    "import ipywidgets as widgets"
   ]
  },
  {
   "cell_type": "markdown",
   "id": "aeef7b6f-8144-4966-a030-5b7af807fe70",
   "metadata": {},
   "source": [
    "The generate_csv() function generates the organizational .csv file that contains all data for each sample. You can add any metadata into the 'base' variable that applies to all samples, such as the date of sequencing. Each sample is organized based on genes, amplicons, oligos, and clones. Each gene is split based on which amplicons were amplified out by PCR. For each amplicon, there is a set of sequencing oligos used to for Sanger Sequencing. Finally, you may add multiple clones for each sample, which would be used if for example you had multiple DNA templates. You may find examples of how to format the inputs in the examples at the end of the notebook. You may also read through the docstring for a more technical description. "
   ]
  },
  {
   "cell_type": "code",
   "execution_count": 64,
   "id": "eaf120af-526b-422b-abca-63d9fe4c7d39",
   "metadata": {},
   "outputs": [],
   "source": [
    "def generate_csv(base, genes, amp, oligos, clones, output_path, append=False): \n",
    "    \"\"\"    \n",
    "    generates a csv to output_path to organize sequencing prep based on inputs.\n",
    "    base: string for base data (ex: date of genotyping, etc.)\n",
    "    \n",
    "    Args: \n",
    "        base: string\n",
    "        genes: ['gene1', 'gene2',...]\n",
    "        amp: [['1_2', '3_4'],['5_6', '7_8'], ...] 2D list. len(amp) == len(genes). \n",
    "        oligos: [[[1, 2, 3], [4, 5, 6]], [[1, 3, 5], [2, 4, 6]], ...] \n",
    "            3D list. len(oligos)==len(amp)==len(genes). \n",
    "            len(oligos[i]) == len(amp[i]). \n",
    "            oligos[i][j] == list of oligos for amp[i][j] for gene[i]. \n",
    "        clones: int for how many clones for each set of oligos. aka how many templates used. \n",
    "        output_path: path for csv file to write to.\n",
    "        append: will append data to an existing csv. default false. \n",
    "        \n",
    "    Returns:\n",
    "        nx2 matrix of indexes and final files names\n",
    "    \"\"\"\n",
    "    \n",
    "    assert len(amp) == len(genes)\n",
    "    assert len(oligos)==len(amp)\n",
    "    for i in range(len(oligos)):\n",
    "        assert len(oligos[i]) == len(amp[i])\n",
    "    \n",
    "    header = ['base', 'index', 'gene', 'amp', 'oligos', 'clones']\n",
    "    matrix = []\n",
    "    index = 1\n",
    "    for i in range(len(genes)): \n",
    "        for j in range(len(amp[i])): \n",
    "            for k in range(len(oligos[i][j])):\n",
    "                for l in range(clones):\n",
    "                    matrix.append([base, index, genes[i], amp[i][j], oligos[i][j][k], l+1])\n",
    "                    index += 1\n",
    "                \n",
    "    edit = \"a\" if append else \"w\"\n",
    "    csv_file = open(output_path, edit)\n",
    "    csvwriter = csv.writer(csv_file)\n",
    "    if not append: \n",
    "        csvwriter.writerow(header)\n",
    "    csvwriter.writerows(matrix)\n",
    "    csv_file.close()\n",
    "    \n",
    "    ret_mat = []\n",
    "    for row in matrix:\n",
    "        ret_mat.append([row[1], base+'_'+row[2]+'_amp_'+row[3]+'_seq_'+str(row[4])+'_clone_'+str(row[5])])\n",
    "    \n",
    "    return ret_mat\n",
    "            "
   ]
  },
  {
   "cell_type": "markdown",
   "id": "e34b005c-cc6b-4e31-acc9-43b6bd6f32ae",
   "metadata": {},
   "source": [
    "The write_naming_csv() function will use the returned matrix from generate_csv() to create a naming .csv file that will work with the Sequencing File Renamer. "
   ]
  },
  {
   "cell_type": "code",
   "execution_count": 56,
   "id": "5e2bb4cf-1a34-41f1-bc19-5b2238eb75f3",
   "metadata": {},
   "outputs": [],
   "source": [
    "def write_naming_csv(csv_path, matrix, append=False): \n",
    "    \"\"\"\n",
    "    writes naming matrix to csv\n",
    "    \"\"\"\n",
    "    \n",
    "    csv_file = open(csv_path, \"a\" if append else \"w\")\n",
    "    csvwriter = csv.writer(csv_file)\n",
    "    csvwriter.writerow([\"index\", \"name\"])\n",
    "    csvwriter.writerows(matrix)\n",
    "    csv_file.close()"
   ]
  },
  {
   "cell_type": "markdown",
   "id": "11456924-75d6-4a62-8498-cfabddaec9d2",
   "metadata": {},
   "source": [
    "# Example Use Cases\n",
    "\n",
    "## Example 1: Easy\n",
    "The first example will be a relatively simple one. In this case, there is 1 gene with 1 amplicon being genotyped. The amplicon will be genotyped with 3 different sequencing oligos and 2 templates (clones). We begin by defining paths for our csv files:"
   ]
  },
  {
   "cell_type": "code",
   "execution_count": 66,
   "id": "225847b5-569a-456f-9e38-de1ebeab5ee4",
   "metadata": {},
   "outputs": [],
   "source": [
    "sequencing_data_csv_path = 'Test Data/full_data.csv'\n",
    "naming_csv_path = 'Test Data/name_ref.csv'"
   ]
  },
  {
   "cell_type": "markdown",
   "id": "b9f4c599-59bb-48a8-a459-5f3ad72d3148",
   "metadata": {},
   "source": [
    "Then, we can start defining data for our samples. Please note in this example that the $genes$ variable is a list, the $amplicons$ variable is a 2D list, and the $oligos$ variable is a 3D list. This is so that the generator will work for more complex use cases. Please also note that the amplicons are labeled as strings with both bounding primers, such as '10_35'. This would refer to the amplicon bounded by primers 10 and 35 (the primers that were used in PCR)."
   ]
  },
  {
   "cell_type": "code",
   "execution_count": 67,
   "id": "a64c305a-4754-4fd1-9652-663d4864fe2b",
   "metadata": {},
   "outputs": [],
   "source": [
    "base_data = 'Evan_09-20-22_sequencing_easy'\n",
    "genes = ['gene1']\n",
    "amplicons = [['10_35']] \n",
    "oligos = [[[1, 2, 3]]]\n",
    "clones = 2"
   ]
  },
  {
   "cell_type": "markdown",
   "id": "4ac0940b-cd6a-45fb-9d59-c99f14c5da8d",
   "metadata": {},
   "source": [
    "Finally, we can run our functions to generate the csv files. You may set the default variable $append$ to True if you would like the data to be appended to the end of the csv files (if they exist) instead of overwriting. "
   ]
  },
  {
   "cell_type": "code",
   "execution_count": 68,
   "id": "b4e24e56-eed9-4b81-9032-86e088022ae2",
   "metadata": {},
   "outputs": [],
   "source": [
    "naming_data = generate_csv(base_data, genes, amplicons, oligos, clones, sequencing_data_csv_path)\n",
    "write_naming_csv(naming_csv_path, naming_data)"
   ]
  },
  {
   "cell_type": "markdown",
   "id": "3c9b65c4-e25e-4b21-a437-98ca9475f55b",
   "metadata": {},
   "source": [
    "## Example 2: Hard\n",
    "The next example will be more complex. In this case, there will be 3 genes: gene1, gene2, and gene3. Each gene will have 1, 2, and 3 amplicons respectively. Each amplicon will have a different set of sequencing oligos. Each oligo will have 4 clones. "
   ]
  },
  {
   "cell_type": "code",
   "execution_count": 69,
   "id": "dd61d3d2-099b-42a1-ab78-df07f00dc2fa",
   "metadata": {},
   "outputs": [],
   "source": [
    "sequencing_data_csv_path = 'Test Data/full_data.csv'\n",
    "naming_csv_path = 'Test Data/name_ref.csv'\n",
    "\n",
    "base_data = 'Evan_09-20-22_sequencing_hard'\n",
    "genes = ['gene1', 'gene2', 'gene3']\n",
    "\n",
    "gene1_amplicons = ['1_2'] # 1 amplicon\n",
    "gene2_amplicons = ['3_4', '5_6'] # 2 amplicons\n",
    "gene3_amplicons = ['7_8', '9_10', '11_12'] # 3 amplicons\n",
    "amplicons = [gene1_amplicons, gene2_amplicons, gene3_amplicons]\n",
    "\n",
    "gene1_oligos = [[1, 2, 3]] # note this is a 2D list. the length of the outer list should match the number of amplicons\n",
    "gene2_oligos = [[4, 5, 6], [7, 8, 9]] # 3 oligos for each amplicon of gene2. \n",
    "gene3_oligos = [[10, 11, 12], [13, 14, 15], [16, 17]] # can have different numbers of oligos\n",
    "oligos = [gene1_oligos, gene2_oligos, gene3_oligos] # the final oligos variable will be a 3D list\n",
    "\n",
    "clones = 4\n",
    "\n",
    "naming_data = generate_csv(base_data, genes, amplicons, oligos, clones, sequencing_data_csv_path)\n",
    "write_naming_csv(naming_csv_path, naming_data)"
   ]
  },
  {
   "cell_type": "markdown",
   "id": "7b7fcfc6-1f85-4cc9-ba2a-cdf50daee3b4",
   "metadata": {},
   "source": [
    "This program will allow each gene to have a variable number of amplicons, and each amplicon can have a variable set of oligos, each with some number of clones. The output of example 2 can be seen in the full_data.csv and name_ref.csv files in the Test Data folder. "
   ]
  }
 ],
 "metadata": {
  "kernelspec": {
   "display_name": "Python 3 (ipykernel)",
   "language": "python",
   "name": "python3"
  },
  "language_info": {
   "codemirror_mode": {
    "name": "ipython",
    "version": 3
   },
   "file_extension": ".py",
   "mimetype": "text/x-python",
   "name": "python",
   "nbconvert_exporter": "python",
   "pygments_lexer": "ipython3",
   "version": "3.9.7"
  }
 },
 "nbformat": 4,
 "nbformat_minor": 5
}
