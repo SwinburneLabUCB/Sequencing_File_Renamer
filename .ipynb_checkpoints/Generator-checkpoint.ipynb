{
 "cells": [
  {
   "cell_type": "code",
   "execution_count": null,
   "id": "a4ebef1a-0b1f-4434-95b0-89118724e5bb",
   "metadata": {},
   "outputs": [],
   "source": [
    "import csv"
   ]
  },
  {
   "cell_type": "code",
   "execution_count": 6,
   "id": "eaf120af-526b-422b-abca-63d9fe4c7d39",
   "metadata": {},
   "outputs": [],
   "source": [
    "# generate csv to organize sequencing prep\n",
    "def generate_csv(dict): \n",
    "    header = [index, gene, clone, oligo]\n",
    "    "
   ]
  },
  {
   "cell_type": "code",
   "execution_count": 4,
   "id": "3a9bffcb-db09-436d-b20b-b4fde6f0bf01",
   "metadata": {},
   "outputs": [],
   "source": [
    "\"\"\"\n",
    "generate the dict to pass in\n",
    "example/info for inputs: \n",
    "    base: string\n",
    "    genes: [gene1, gene2...]\n",
    "    clones: [[1-3], [4-6]...] (must match genes, may want to automate this somehow)\n",
    "    oligos: [[2, 3, 4], [2, 6, 7]...] (dimensions must match clones)\n",
    "    same_oligos: if true, oligos can just be [24, 5, 3] and assume applies to all sets of clones\n",
    "\"\"\"\n",
    "def generate_dict(base, genes, clones, oligos, same_oligos=False): \n",
    "    pass"
   ]
  },
  {
   "cell_type": "code",
   "execution_count": 5,
   "id": "574799c1-5bb2-4dad-ab43-ce30dc1eee3a",
   "metadata": {},
   "outputs": [],
   "source": [
    "# return a nx2 matrix of indexes + names for renaming purposes\n",
    "def generate_names(ref_csv): \n",
    "    pass\n"
   ]
  }
 ],
 "metadata": {
  "kernelspec": {
   "display_name": "Python 3 (ipykernel)",
   "language": "python",
   "name": "python3"
  },
  "language_info": {
   "codemirror_mode": {
    "name": "ipython",
    "version": 3
   },
   "file_extension": ".py",
   "mimetype": "text/x-python",
   "name": "python",
   "nbconvert_exporter": "python",
   "pygments_lexer": "ipython3",
   "version": "3.9.10"
  }
 },
 "nbformat": 4,
 "nbformat_minor": 5
}
