{
 "cells": [
  {
   "cell_type": "code",
   "execution_count": 26,
   "id": "de73507d-da83-44f3-b869-9b1be91afb82",
   "metadata": {},
   "outputs": [],
   "source": [
    "import os\n",
    "import shutil\n",
    "import csv\n",
    "import re"
   ]
  },
  {
   "cell_type": "code",
   "execution_count": 60,
   "id": "b8a23755-d70b-4d1c-afb2-968f64e2ecfc",
   "metadata": {},
   "outputs": [],
   "source": [
    "def renamer(ref_csv, input_path, output_path, prepend=False): \n",
    "    \"\"\" renames sequencing file according to reference csv \"\"\"\n",
    "    names_ref = read_csv(ref_csv)\n",
    "    \n",
    "    # make output dir if doesn't already exist\n",
    "    if not os.path.isdir(output_path): \n",
    "        os.mkdir(output_path)\n",
    "        \n",
    "    # make a copy of original directory and put it in output path (for safekeeping purposes)\n",
    "    copy_data_path = output_path + \"/data_copy\"\n",
    "    if not os.path.exists(copy_data_path): \n",
    "        os.mkdir(copy_data_path)\n",
    "    shutil.copytree(input_path, copy_data_path, dirs_exist_ok=True)\n",
    "    \n",
    "    # get all .ab1 files and their indices\n",
    "    input_dir_raw = os.listdir(input_path)\n",
    "    ab_files = [x for x in input_dir_raw if x[-4:] == '.ab1']\n",
    "    ab_file_indices = [int(re.findall('-\\d+', x)[0][1:]) for x in ab_files]\n",
    "    \n",
    "    # get corresponding name for each file based on index\n",
    "    def findName(ab_file_index): \n",
    "        for i in names_ref: \n",
    "            if int(i[0]) == ab_file_index: \n",
    "                # check if user put .ab1 suffix in ref csv\n",
    "                if len(i[1]) > 4 and i[1][-4:] == '.ab1': \n",
    "                    return i[1][:-4]\n",
    "                else: \n",
    "                    return i[1]\n",
    "        raise Exception(\"cannot find index in csv\")\n",
    "    \n",
    "    # copy and rename each file using reference csv\n",
    "    for i in range(len(ab_file_indices)):\n",
    "        new_path = shutil.copy2(input_path+\"/\"+ab_files[i], output_path)\n",
    "        if not prepend: \n",
    "            new_name = f\"{output_path}/{findName(ab_file_indices[i])}.ab1\"\n",
    "            \n",
    "        else: \n",
    "            new_name = f\"{output_path}/{findName(ab_file_indices[i])}_{ab_files[i]}\"\n",
    "        os.rename(src=new_path, dst=new_name)"
   ]
  },
  {
   "cell_type": "code",
   "execution_count": 56,
   "id": "b408cfad-beb6-4f62-adee-e839827c4e12",
   "metadata": {},
   "outputs": [],
   "source": [
    "def read_csv(csv_path): \n",
    "     \"\"\" helper function to read reference csv \"\"\"\n",
    "    csv_file = open(csv_path)\n",
    "    csvreader = csv.reader(csv_file)\n",
    "    next(csvreader)\n",
    "    matrix = []\n",
    "    for row in csvreader: \n",
    "        matrix.append(row)\n",
    "    csv_file.close()\n",
    "    \n",
    "    # check csv in correct format, may change later to accommodate more functionality\n",
    "    assert len(matrix) > 0\n",
    "    assert len(matrix[0]) >= 2\n",
    "    \n",
    "    return matrix\n",
    "    "
   ]
  },
  {
   "cell_type": "code",
   "execution_count": 59,
   "id": "d155b296-e342-4575-8528-8ce2e8059980",
   "metadata": {},
   "outputs": [],
   "source": [
    "renamer(\"/Users/ehuang/Downloads/2022222_arpc3_ms1_ox_rnf_F2_CRS59_genotyping.csv\", \n",
    "        \"/Users/ehuang/Downloads/2022222 arpc3 msI sequencing\", \n",
    "        'Test Data/output_dir')"
   ]
  },
  {
   "cell_type": "code",
   "execution_count": null,
   "id": "c3eb34ba-a60c-44db-91cf-10ed3fd172af",
   "metadata": {},
   "outputs": [],
   "source": []
  }
 ],
 "metadata": {
  "kernelspec": {
   "display_name": "Python 3 (ipykernel)",
   "language": "python",
   "name": "python3"
  },
  "language_info": {
   "codemirror_mode": {
    "name": "ipython",
    "version": 3
   },
   "file_extension": ".py",
   "mimetype": "text/x-python",
   "name": "python",
   "nbconvert_exporter": "python",
   "pygments_lexer": "ipython3",
   "version": "3.9.10"
  }
 },
 "nbformat": 4,
 "nbformat_minor": 5
}
