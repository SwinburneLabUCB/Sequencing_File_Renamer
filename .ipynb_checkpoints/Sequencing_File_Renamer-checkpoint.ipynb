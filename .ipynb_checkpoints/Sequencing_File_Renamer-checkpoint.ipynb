{
 "cells": [
  {
   "cell_type": "code",
   "execution_count": 1,
   "id": "de73507d-da83-44f3-b869-9b1be91afb82",
   "metadata": {},
   "outputs": [],
   "source": [
    "import os\n",
    "import shutil\n",
    "import csv\n",
    "import re\n",
    "import ipywidgets as widgets"
   ]
  },
  {
   "cell_type": "code",
   "execution_count": 2,
   "id": "b408cfad-beb6-4f62-adee-e839827c4e12",
   "metadata": {},
   "outputs": [],
   "source": [
    "def read_csv(csv_path, from_gen=False): \n",
    "    \"\"\" helper function to read reference csv \"\"\"\n",
    "    csv_file = open(csv_path)\n",
    "    csvreader = csv.reader(csv_file)\n",
    "    next(csvreader)\n",
    "    matrix = []\n",
    "    for row in csvreader: \n",
    "        matrix.append(row)\n",
    "    csv_file.close()\n",
    "    \n",
    "    # check csv in correct format, may change later to accommodate more functionality\n",
    "    assert len(matrix) > 0\n",
    "    assert len(matrix[0]) >= 2\n",
    "    \n",
    "    return matrix\n",
    "    "
   ]
  },
  {
   "cell_type": "code",
   "execution_count": 3,
   "id": "b8a23755-d70b-4d1c-afb2-968f64e2ecfc",
   "metadata": {},
   "outputs": [],
   "source": [
    "def renamer(ref_csv, input_path, output_path, prepend=False, from_gen=False): \n",
    "    \"\"\" renames sequencing file according to reference csv \"\"\"\n",
    "    names_ref = read_csv(ref_csv)\n",
    "    \n",
    "    # make output dir if doesn't already exist\n",
    "    if not os.path.isdir(output_path): \n",
    "        os.mkdir(output_path)\n",
    "        \n",
    "    # make a copy of original directory and put it in output path (for safekeeping purposes)\n",
    "    copy_data_path = output_path + \"/data_copy\"\n",
    "    if not os.path.exists(copy_data_path): \n",
    "        os.mkdir(copy_data_path)\n",
    "    shutil.copytree(input_path, copy_data_path, dirs_exist_ok=True)\n",
    "    \n",
    "    # get all .ab1 files and their indices\n",
    "    input_dir_raw = os.listdir(input_path)\n",
    "    ab_files = [x for x in input_dir_raw if x[-4:] == '.ab1']\n",
    "    ab_file_indices = [int(re.findall('-\\d+', x)[0][1:]) for x in ab_files]\n",
    "    \n",
    "    # get corresponding name for each file based on index\n",
    "    def findName(ab_file_index): \n",
    "        for i in names_ref: \n",
    "            if int(i[0]) == ab_file_index: \n",
    "                # check if user put .ab1 suffix in ref csv\n",
    "                if len(i[1]) > 4 and i[1][-4:] == '.ab1': \n",
    "                    return i[0] + \"_\" + i[1][:-4]\n",
    "                else: \n",
    "                    return i[0] + \"_\" + i[1]\n",
    "        raise Exception(\"cannot find index in csv\")\n",
    "    \n",
    "    # copy and rename each file using reference csv\n",
    "    for i in range(len(ab_file_indices)):\n",
    "        new_path = shutil.copy2(input_path+\"/\"+ab_files[i], output_path)\n",
    "        %run Generator.ipynb\n",
    "        new_name = findName(ab_file_indices[i]) if not from_gen else generate_names(names_ref)\n",
    "        if not prepend: \n",
    "            new_name = f\"{output_path}/{new_name}.ab1\"\n",
    "            \n",
    "        else: \n",
    "            new_name = f\"{output_path}/{new_name}_{ab_files[i]}\"\n",
    "        os.rename(src=new_path, dst=new_name)"
   ]
  },
  {
   "cell_type": "code",
   "execution_count": 4,
   "id": "c3eb34ba-a60c-44db-91cf-10ed3fd172af",
   "metadata": {},
   "outputs": [
    {
     "data": {
      "application/vnd.jupyter.widget-view+json": {
       "model_id": "b531c71733b0479bb639e6046fec82b6",
       "version_major": 2,
       "version_minor": 0
      },
      "text/plain": [
       "interactive(children=(Text(value='', description='ref_csv'), Text(value='', description='input_path'), Text(va…"
      ]
     },
     "metadata": {},
     "output_type": "display_data"
    },
    {
     "data": {
      "text/plain": [
       "<function __main__.renamer(ref_csv, input_path, output_path, prepend=False, from_gen=False)>"
      ]
     },
     "execution_count": 4,
     "metadata": {},
     "output_type": "execute_result"
    }
   ],
   "source": [
    "widgets.interact_manual(renamer, \n",
    "                 ref_csv=\"\", \n",
    "                 input_path=\"\", \n",
    "                 output_path=\"\")"
   ]
  },
  {
   "cell_type": "code",
   "execution_count": 5,
   "id": "d155b296-e342-4575-8528-8ce2e8059980",
   "metadata": {},
   "outputs": [
    {
     "data": {
      "application/vnd.jupyter.widget-view+json": {
       "model_id": "03b54757d3594ae0a2432576e25408b6",
       "version_major": 2,
       "version_minor": 0
      },
      "text/plain": [
       "interactive(children=(Text(value='', description='base'), Text(value='', description='genes'), Text(value='', …"
      ]
     },
     "metadata": {},
     "output_type": "display_data"
    },
    {
     "ename": "OSError",
     "evalue": "[Errno 63] File name too long: 'Test Data/output_dir/42-2_B06_046.ab1' -> \"Test Data/output_dir/[['1', '1_20220303arpc3-mNG_homozygote_knockins_amp_213_215_seq_215'], ['2', '2_20220303arpc3-mNG_homozygote_knockins_amp_213_215_seq_13'], ['3', '3_20220303arpc3-mNG_homozygote_knockins_amp_213_215_seq_99'], ['4', '4_20220303arpc3-mNG_homozygote_knockins_amp_213_215_seq_100'], ['5', '5_20220303arpc3-mNG_homozygote_knockins_amp_213_215_seq_43'], ['6', '6_20220303arpc3-mNG_homozygote_knockins_amp_213_215_seq_41'], ['7', '7_20220303arpc3-mNG_homozygote_knockins_amp_213_215_seq_220'], ['8', '8_20220303arpc3-mNG_homozygote_knockins_amp_213_215_seq_213'], ['9', '9_20220303arpc3-mNG_homozygote_knockins_amp_213_215_seq_215'], ['10', '10_20220303arpc3-mNG_homozygote_knockins_amp_213_215_seq_13'], ['11', '11_20220303arpc3-mNG_homozygote_knockins_amp_213_215_seq_99'], ['12', '12_20220303arpc3-mNG_homozygote_knockins_amp_213_215_seq_100'], ['13', '13_20220303arpc3-mNG_homozygote_knockins_amp_213_215_seq_43'], ['14', '14_20220303arpc3-mNG_homozygote_knockins_amp_213_215_seq_41'], ['15', '15_20220303arpc3-mNG_homozygote_knockins_amp_213_215_seq_220'], ['16', '16_20220303arpc3-mNG_homozygote_knockins_amp_213_215_seq_213'], ['17', '17_20220303arpc3-mNG_homozygote_knockins_amp_213_215_seq_215'], ['18', '18_20220303arpc3-mNG_homozygote_knockins_amp_213_215_seq_13'], ['19', '19_20220303arpc3-mNG_homozygote_knockins_amp_213_215_seq_99'], ['20', '20_20220303arpc3-mNG_homozygote_knockins_amp_213_215_seq_100'], ['21', '21_20220303arpc3-mNG_homozygote_knockins_amp_213_215_seq_43'], ['22', '22_20220303arpc3-mNG_homozygote_knockins_amp_213_215_seq_41'], ['23', '23_20220303arpc3-mNG_homozygote_knockins_amp_213_215_seq_220'], ['24', '24_20220303arpc3-mNG_homozygote_knockins_amp_213_215_seq_213'], ['25', '25_20220303arpc3-mNG_homozygote_knockins_amp_213_215_seq_215'], ['26', '26_20220303arpc3-mNG_homozygote_knockins_amp_213_215_seq_13'], ['27', '27_20220303arpc3-mNG_homozygote_knockins_amp_213_215_seq_99'], ['28', '28_20220303arpc3-mNG_homozygote_knockins_amp_213_215_seq_100'], ['29', '29_20220303arpc3-mNG_homozygote_knockins_amp_213_215_seq_43'], ['30', '30_20220303arpc3-mNG_homozygote_knockins_amp_213_215_seq_41'], ['31', '31_20220303arpc3-mNG_homozygote_knockins_amp_213_215_seq_220'], ['32', '32_20220303arpc3-mNG_homozygote_knockins_amp_213_215_seq_213'], ['33', '33_20220303arpc3-mNG_homozygote_knockins_amp_213_215_seq_215'], ['34', '34_20220303arpc3-mNG_homozygote_knockins_amp_213_215_seq_13'], ['35', '35_20220303arpc3-mNG_homozygote_knockins_amp_213_215_seq_99'], ['36', '36_20220303arpc3-mNG_homozygote_knockins_amp_213_215_seq_100'], ['37', '37_20220303arpc3-mNG_homozygote_knockins_amp_213_215_seq_43'], ['38', '38_20220303arpc3-mNG_homozygote_knockins_amp_213_215_seq_41'], ['39', '39_20220303arpc3-mNG_homozygote_knockins_amp_213_215_seq_220'], ['40', '40_20220303arpc3-mNG_homozygote_knockins_amp_213_215_seq_213'], ['41', '41_20220303arpc3-mNG_homozygote_knockins_amp_213_215_seq_215'], ['42', '42_20220303arpc3-mNG_homozygote_knockins_amp_213_215_seq_13'], ['43', '43_20220303arpc3-mNG_homozygote_knockins_amp_213_215_seq_99'], ['44', '44_20220303arpc3-mNG_homozygote_knockins_amp_213_215_seq_100'], ['45', '45_20220303arpc3-mNG_homozygote_knockins_amp_213_215_seq_43'], ['46', '46_20220303arpc3-mNG_homozygote_knockins_amp_213_215_seq_41'], ['47', '47_20220303arpc3-mNG_homozygote_knockins_amp_213_215_seq_220'], ['48', '48_20220303arpc3-mNG_homozygote_knockins_amp_213_215_seq_213'], ['49', '49_20220303arpc3-mNG_homozygote_knockins_amp_213_215_seq_215'], ['50', '50_20220303arpc3-mNG_homozygote_knockins_amp_213_215_seq_13'], ['51', '51_20220303arpc3-mNG_homozygote_knockins_amp_213_215_seq_99'], ['52', '52_20220303arpc3-mNG_homozygote_knockins_amp_213_215_seq_100'], ['53', '53_20220303arpc3-mNG_homozygote_knockins_amp_213_215_seq_43'], ['54', '54_20220303arpc3-mNG_homozygote_knockins_amp_213_215_seq_41'], ['55', '55_20220303arpc3-mNG_homozygote_knockins_amp_213_215_seq_220'], ['56', '56_20220303arpc3-mNG_homozygote_knockins_amp_213_215_seq_213']]_42-2_B06_046.ab1\"",
     "output_type": "error",
     "traceback": [
      "\u001b[0;31m---------------------------------------------------------------------------\u001b[0m",
      "\u001b[0;31mOSError\u001b[0m                                   Traceback (most recent call last)",
      "Input \u001b[0;32mIn [5]\u001b[0m, in \u001b[0;36m<module>\u001b[0;34m\u001b[0m\n\u001b[0;32m----> 1\u001b[0m \u001b[43mrenamer\u001b[49m\u001b[43m(\u001b[49m\u001b[38;5;124;43m\"\u001b[39;49m\u001b[38;5;124;43mTest Data/name_ref.csv\u001b[39;49m\u001b[38;5;124;43m\"\u001b[39;49m\u001b[43m,\u001b[49m\u001b[43m \u001b[49m\n\u001b[1;32m      2\u001b[0m \u001b[43m        \u001b[49m\u001b[38;5;124;43m\"\u001b[39;49m\u001b[38;5;124;43m/Users/ehuang/Downloads/EH\u001b[39;49m\u001b[38;5;124;43m\"\u001b[39;49m\u001b[43m,\u001b[49m\u001b[43m \u001b[49m\n\u001b[1;32m      3\u001b[0m \u001b[43m        \u001b[49m\u001b[38;5;124;43m\"\u001b[39;49m\u001b[38;5;124;43mTest Data/output_dir\u001b[39;49m\u001b[38;5;124;43m\"\u001b[39;49m\u001b[43m,\u001b[49m\u001b[43m \u001b[49m\n\u001b[1;32m      4\u001b[0m \u001b[43m        \u001b[49m\u001b[43mprepend\u001b[49m\u001b[38;5;241;43m=\u001b[39;49m\u001b[38;5;28;43;01mTrue\u001b[39;49;00m\u001b[43m,\u001b[49m\u001b[43m \u001b[49m\n\u001b[1;32m      5\u001b[0m \u001b[43m        \u001b[49m\u001b[43mfrom_gen\u001b[49m\u001b[38;5;241;43m=\u001b[39;49m\u001b[38;5;28;43;01mTrue\u001b[39;49;00m\u001b[43m)\u001b[49m\n",
      "Input \u001b[0;32mIn [3]\u001b[0m, in \u001b[0;36mrenamer\u001b[0;34m(ref_csv, input_path, output_path, prepend, from_gen)\u001b[0m\n\u001b[1;32m     39\u001b[0m \u001b[38;5;28;01melse\u001b[39;00m: \n\u001b[1;32m     40\u001b[0m     new_name \u001b[38;5;241m=\u001b[39m \u001b[38;5;124mf\u001b[39m\u001b[38;5;124m\"\u001b[39m\u001b[38;5;132;01m{\u001b[39;00moutput_path\u001b[38;5;132;01m}\u001b[39;00m\u001b[38;5;124m/\u001b[39m\u001b[38;5;132;01m{\u001b[39;00mnew_name\u001b[38;5;132;01m}\u001b[39;00m\u001b[38;5;124m_\u001b[39m\u001b[38;5;132;01m{\u001b[39;00mab_files[i]\u001b[38;5;132;01m}\u001b[39;00m\u001b[38;5;124m\"\u001b[39m\n\u001b[0;32m---> 41\u001b[0m \u001b[43mos\u001b[49m\u001b[38;5;241;43m.\u001b[39;49m\u001b[43mrename\u001b[49m\u001b[43m(\u001b[49m\u001b[43msrc\u001b[49m\u001b[38;5;241;43m=\u001b[39;49m\u001b[43mnew_path\u001b[49m\u001b[43m,\u001b[49m\u001b[43m \u001b[49m\u001b[43mdst\u001b[49m\u001b[38;5;241;43m=\u001b[39;49m\u001b[43mnew_name\u001b[49m\u001b[43m)\u001b[49m\n",
      "\u001b[0;31mOSError\u001b[0m: [Errno 63] File name too long: 'Test Data/output_dir/42-2_B06_046.ab1' -> \"Test Data/output_dir/[['1', '1_20220303arpc3-mNG_homozygote_knockins_amp_213_215_seq_215'], ['2', '2_20220303arpc3-mNG_homozygote_knockins_amp_213_215_seq_13'], ['3', '3_20220303arpc3-mNG_homozygote_knockins_amp_213_215_seq_99'], ['4', '4_20220303arpc3-mNG_homozygote_knockins_amp_213_215_seq_100'], ['5', '5_20220303arpc3-mNG_homozygote_knockins_amp_213_215_seq_43'], ['6', '6_20220303arpc3-mNG_homozygote_knockins_amp_213_215_seq_41'], ['7', '7_20220303arpc3-mNG_homozygote_knockins_amp_213_215_seq_220'], ['8', '8_20220303arpc3-mNG_homozygote_knockins_amp_213_215_seq_213'], ['9', '9_20220303arpc3-mNG_homozygote_knockins_amp_213_215_seq_215'], ['10', '10_20220303arpc3-mNG_homozygote_knockins_amp_213_215_seq_13'], ['11', '11_20220303arpc3-mNG_homozygote_knockins_amp_213_215_seq_99'], ['12', '12_20220303arpc3-mNG_homozygote_knockins_amp_213_215_seq_100'], ['13', '13_20220303arpc3-mNG_homozygote_knockins_amp_213_215_seq_43'], ['14', '14_20220303arpc3-mNG_homozygote_knockins_amp_213_215_seq_41'], ['15', '15_20220303arpc3-mNG_homozygote_knockins_amp_213_215_seq_220'], ['16', '16_20220303arpc3-mNG_homozygote_knockins_amp_213_215_seq_213'], ['17', '17_20220303arpc3-mNG_homozygote_knockins_amp_213_215_seq_215'], ['18', '18_20220303arpc3-mNG_homozygote_knockins_amp_213_215_seq_13'], ['19', '19_20220303arpc3-mNG_homozygote_knockins_amp_213_215_seq_99'], ['20', '20_20220303arpc3-mNG_homozygote_knockins_amp_213_215_seq_100'], ['21', '21_20220303arpc3-mNG_homozygote_knockins_amp_213_215_seq_43'], ['22', '22_20220303arpc3-mNG_homozygote_knockins_amp_213_215_seq_41'], ['23', '23_20220303arpc3-mNG_homozygote_knockins_amp_213_215_seq_220'], ['24', '24_20220303arpc3-mNG_homozygote_knockins_amp_213_215_seq_213'], ['25', '25_20220303arpc3-mNG_homozygote_knockins_amp_213_215_seq_215'], ['26', '26_20220303arpc3-mNG_homozygote_knockins_amp_213_215_seq_13'], ['27', '27_20220303arpc3-mNG_homozygote_knockins_amp_213_215_seq_99'], ['28', '28_20220303arpc3-mNG_homozygote_knockins_amp_213_215_seq_100'], ['29', '29_20220303arpc3-mNG_homozygote_knockins_amp_213_215_seq_43'], ['30', '30_20220303arpc3-mNG_homozygote_knockins_amp_213_215_seq_41'], ['31', '31_20220303arpc3-mNG_homozygote_knockins_amp_213_215_seq_220'], ['32', '32_20220303arpc3-mNG_homozygote_knockins_amp_213_215_seq_213'], ['33', '33_20220303arpc3-mNG_homozygote_knockins_amp_213_215_seq_215'], ['34', '34_20220303arpc3-mNG_homozygote_knockins_amp_213_215_seq_13'], ['35', '35_20220303arpc3-mNG_homozygote_knockins_amp_213_215_seq_99'], ['36', '36_20220303arpc3-mNG_homozygote_knockins_amp_213_215_seq_100'], ['37', '37_20220303arpc3-mNG_homozygote_knockins_amp_213_215_seq_43'], ['38', '38_20220303arpc3-mNG_homozygote_knockins_amp_213_215_seq_41'], ['39', '39_20220303arpc3-mNG_homozygote_knockins_amp_213_215_seq_220'], ['40', '40_20220303arpc3-mNG_homozygote_knockins_amp_213_215_seq_213'], ['41', '41_20220303arpc3-mNG_homozygote_knockins_amp_213_215_seq_215'], ['42', '42_20220303arpc3-mNG_homozygote_knockins_amp_213_215_seq_13'], ['43', '43_20220303arpc3-mNG_homozygote_knockins_amp_213_215_seq_99'], ['44', '44_20220303arpc3-mNG_homozygote_knockins_amp_213_215_seq_100'], ['45', '45_20220303arpc3-mNG_homozygote_knockins_amp_213_215_seq_43'], ['46', '46_20220303arpc3-mNG_homozygote_knockins_amp_213_215_seq_41'], ['47', '47_20220303arpc3-mNG_homozygote_knockins_amp_213_215_seq_220'], ['48', '48_20220303arpc3-mNG_homozygote_knockins_amp_213_215_seq_213'], ['49', '49_20220303arpc3-mNG_homozygote_knockins_amp_213_215_seq_215'], ['50', '50_20220303arpc3-mNG_homozygote_knockins_amp_213_215_seq_13'], ['51', '51_20220303arpc3-mNG_homozygote_knockins_amp_213_215_seq_99'], ['52', '52_20220303arpc3-mNG_homozygote_knockins_amp_213_215_seq_100'], ['53', '53_20220303arpc3-mNG_homozygote_knockins_amp_213_215_seq_43'], ['54', '54_20220303arpc3-mNG_homozygote_knockins_amp_213_215_seq_41'], ['55', '55_20220303arpc3-mNG_homozygote_knockins_amp_213_215_seq_220'], ['56', '56_20220303arpc3-mNG_homozygote_knockins_amp_213_215_seq_213']]_42-2_B06_046.ab1\""
     ]
    }
   ],
   "source": [
    "renamer(\"Test Data/name_ref.csv\", \n",
    "        \"/Users/ehuang/Downloads/EH\", \n",
    "        \"Test Data/output_dir\", \n",
    "        prepend=True, \n",
    "        from_gen=True)\n",
    "\n"
   ]
  },
  {
   "cell_type": "code",
   "execution_count": 30,
   "id": "19f72239-5a75-4773-aa33-e8b4191188b4",
   "metadata": {},
   "outputs": [
    {
     "data": {
      "text/plain": [
       "'\\nTODO: \\n\\nupload file instead of having user input path? widgets.FileUpload\\n\\n'"
      ]
     },
     "execution_count": 30,
     "metadata": {},
     "output_type": "execute_result"
    }
   ],
   "source": [
    "\"\"\"\n",
    "TODO: \n",
    "\n",
    "figure out plug in\n",
    "\n",
    "upload file instead of having user input path? widgets.FileUpload\n",
    "\n",
    "\"\"\""
   ]
  },
  {
   "cell_type": "code",
   "execution_count": null,
   "id": "48959788-53c3-45c1-94d3-1058aae2424e",
   "metadata": {},
   "outputs": [],
   "source": []
  }
 ],
 "metadata": {
  "kernelspec": {
   "display_name": "Python 3 (ipykernel)",
   "language": "python",
   "name": "python3"
  },
  "language_info": {
   "codemirror_mode": {
    "name": "ipython",
    "version": 3
   },
   "file_extension": ".py",
   "mimetype": "text/x-python",
   "name": "python",
   "nbconvert_exporter": "python",
   "pygments_lexer": "ipython3",
   "version": "3.9.10"
  }
 },
 "nbformat": 4,
 "nbformat_minor": 5
}
