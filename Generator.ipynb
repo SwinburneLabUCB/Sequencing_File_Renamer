{
 "cells": [
  {
   "cell_type": "code",
   "execution_count": 5,
   "id": "a4ebef1a-0b1f-4434-95b0-89118724e5bb",
   "metadata": {},
   "outputs": [],
   "source": [
    "import csv\n",
    "import ipywidgets as widgets"
   ]
  },
  {
   "cell_type": "code",
   "execution_count": 6,
   "id": "eaf120af-526b-422b-abca-63d9fe4c7d39",
   "metadata": {},
   "outputs": [],
   "source": [
    "def generate_csv(dict, output_path, append=True): \n",
    "    \"\"\"    \n",
    "    generates a csv to output_path to organize sequencing prep based on dict. dict should come from generate_dict. \n",
    "    returns nx2 matrix of indexes and final files names\n",
    "    \"\"\"\n",
    "    \n",
    "    # TODO: maybe use pandas for csv writing to simplify code\n",
    "    \n",
    "    header = dict['header']\n",
    "    matrix = []\n",
    "    index = 1\n",
    "    for i in range(len(dict['genes'])): \n",
    "        for j in range(len(dict['clones'])): \n",
    "            for k in range(len(dict['clones'][j])): \n",
    "                matrix.append([dict['base'], index, dict['genes'][i], dict['clones'][j][k], dict['oligos'][j][k]])\n",
    "                index += 1\n",
    "    edit = \"a\" if append else \"w\"\n",
    "    csv_file = open(output_path, edit)\n",
    "    csvwriter = csv.writer(csv_file)\n",
    "    if not append: \n",
    "        csvwriter.writerow(header)\n",
    "    csvwriter.writerows(matrix)\n",
    "    #csvwriter.writerows(generate_names(matrix))\n",
    "    csv_file.close()\n",
    "    \n",
    "    return generate_names(matrix)\n",
    "\n",
    "            "
   ]
  },
  {
   "cell_type": "code",
   "execution_count": 7,
   "id": "3a9bffcb-db09-436d-b20b-b4fde6f0bf01",
   "metadata": {},
   "outputs": [],
   "source": [
    "def generate_dict(base, genes, clones, oligos, oligos_first=False, same_last=False): \n",
    "    \"\"\"\n",
    "    generates dict to pass into generate_csv()\n",
    "    \n",
    "    examples/info for inputs: \n",
    "        base: string\n",
    "        genes: [gene1, gene2...]\n",
    "        clones: [[1-3], [4-6]...] (must match genes, may want to automate this somehow)\n",
    "        oligos: [[2, 3, 4], [2, 6, 7]...] (dimensions must match clones)\n",
    "        clones_first: if true, clones higher in heirarchy than oligos. \n",
    "        same_oligos: if true, oligos can just be [24, 5, 3] and assume applies to all sets of clones\n",
    "    \"\"\"\n",
    "    result = {};\n",
    "    if not oligos_first: \n",
    "        result['header'] = ['base', 'index', 'gene', 'clone', 'oligo']\n",
    "        if not same_last: \n",
    "            result['clones'] = clones\n",
    "            result['oligos'] = oligos\n",
    "        else: \n",
    "            result['clones'], result['oligos'] = [], []\n",
    "            for i in range(len(clones)):\n",
    "                temp_clones, temp_oligos = [], []\n",
    "                for j in range(len(oligos)): \n",
    "                    temp_clones.append(clones[i])\n",
    "                    temp_oligos.append(oligos[j])\n",
    "                result['clones'].append(temp_clones)\n",
    "                result['oligos'].append(temp_oligos)\n",
    "                    \n",
    "    else: \n",
    "        result['header'] = ['base', 'index', 'gene', 'oligo', 'clone']\n",
    "        if not same_last: \n",
    "            result['oligos'] = clones\n",
    "            result['clones'] = oligos\n",
    "        else: \n",
    "            result['oligos'], result['clones'] = [], []\n",
    "            for i in range(len(oligos)):\n",
    "                temp_clones, temp_oligos = [], []\n",
    "                for j in range(len(clones)): \n",
    "                    temp_clones.append(oligos[i])\n",
    "                    temp_oligos.append(clones[j])\n",
    "                result['clones'].append(temp_clones)\n",
    "                result['oligos'].append(temp_oligos)\n",
    "    \n",
    "    result['base'] = base\n",
    "    result['genes'] = genes\n",
    "    \n",
    "    \n",
    "    \n",
    "    return result"
   ]
  },
  {
   "cell_type": "code",
   "execution_count": 8,
   "id": "574799c1-5bb2-4dad-ab43-ce30dc1eee3a",
   "metadata": {},
   "outputs": [],
   "source": [
    "def generate_names(matrix): \n",
    "    \"\"\"\n",
    "    returns a nx2 matrix of indexes + names from matrix of name elements\n",
    "    \"\"\"\n",
    "    result = []\n",
    "    for row in matrix: \n",
    "        name = \"\"\n",
    "        index = 0\n",
    "        for col in row:\n",
    "            if index == 1: \n",
    "                index += 1\n",
    "                continue\n",
    "            if index == len(row)-1: \n",
    "                name+='_seq_'\n",
    "            name += str(col)\n",
    "            index += 1\n",
    "        result.append([row[1], str(row[1])+'_'+name])\n",
    "    return result\n",
    "        "
   ]
  },
  {
   "cell_type": "code",
   "execution_count": 8,
   "id": "62218d79-2e0d-4b23-aa87-9e85937148fb",
   "metadata": {},
   "outputs": [
    {
     "data": {
      "application/vnd.jupyter.widget-view+json": {
       "model_id": "6d56168c90f142269759e0519eb83a46",
       "version_major": 2,
       "version_minor": 0
      },
      "text/plain": [
       "interactive(children=(Text(value='', description='base'), Text(value='', description='genes'), Text(value='', …"
      ]
     },
     "metadata": {},
     "output_type": "display_data"
    },
    {
     "data": {
      "text/plain": [
       "<function __main__.generate_dict(base, genes, clones, oligos, oligos_first=False, same_last=False)>"
      ]
     },
     "execution_count": 8,
     "metadata": {},
     "output_type": "execute_result"
    }
   ],
   "source": [
    "widgets.interact_manual(generate_dict, base=\"\", genes=\"\", clones=\"\", oligos=\"\")"
   ]
  },
  {
   "cell_type": "code",
   "execution_count": 11,
   "id": "204d411c-8a8a-4ee8-a380-0ff7c6f7f9c9",
   "metadata": {},
   "outputs": [
    {
     "data": {
      "text/plain": [
       "[[1, '1_20220303arpc3-mNG_homozygote_knockins_amp_213_215_seq_215'],\n",
       " [2, '2_20220303arpc3-mNG_homozygote_knockins_amp_213_215_seq_13'],\n",
       " [3, '3_20220303arpc3-mNG_homozygote_knockins_amp_213_215_seq_99'],\n",
       " [4, '4_20220303arpc3-mNG_homozygote_knockins_amp_213_215_seq_100'],\n",
       " [5, '5_20220303arpc3-mNG_homozygote_knockins_amp_213_215_seq_43'],\n",
       " [6, '6_20220303arpc3-mNG_homozygote_knockins_amp_213_215_seq_41'],\n",
       " [7, '7_20220303arpc3-mNG_homozygote_knockins_amp_213_215_seq_220'],\n",
       " [8, '8_20220303arpc3-mNG_homozygote_knockins_amp_213_215_seq_213'],\n",
       " [9, '9_20220303arpc3-mNG_homozygote_knockins_amp_213_215_seq_215'],\n",
       " [10, '10_20220303arpc3-mNG_homozygote_knockins_amp_213_215_seq_13'],\n",
       " [11, '11_20220303arpc3-mNG_homozygote_knockins_amp_213_215_seq_99'],\n",
       " [12, '12_20220303arpc3-mNG_homozygote_knockins_amp_213_215_seq_100'],\n",
       " [13, '13_20220303arpc3-mNG_homozygote_knockins_amp_213_215_seq_43'],\n",
       " [14, '14_20220303arpc3-mNG_homozygote_knockins_amp_213_215_seq_41'],\n",
       " [15, '15_20220303arpc3-mNG_homozygote_knockins_amp_213_215_seq_220'],\n",
       " [16, '16_20220303arpc3-mNG_homozygote_knockins_amp_213_215_seq_213'],\n",
       " [17, '17_20220303arpc3-mNG_homozygote_knockins_amp_213_215_seq_215'],\n",
       " [18, '18_20220303arpc3-mNG_homozygote_knockins_amp_213_215_seq_13'],\n",
       " [19, '19_20220303arpc3-mNG_homozygote_knockins_amp_213_215_seq_99'],\n",
       " [20, '20_20220303arpc3-mNG_homozygote_knockins_amp_213_215_seq_100'],\n",
       " [21, '21_20220303arpc3-mNG_homozygote_knockins_amp_213_215_seq_43'],\n",
       " [22, '22_20220303arpc3-mNG_homozygote_knockins_amp_213_215_seq_41'],\n",
       " [23, '23_20220303arpc3-mNG_homozygote_knockins_amp_213_215_seq_220'],\n",
       " [24, '24_20220303arpc3-mNG_homozygote_knockins_amp_213_215_seq_213'],\n",
       " [25, '25_20220303arpc3-mNG_homozygote_knockins_amp_213_215_seq_215'],\n",
       " [26, '26_20220303arpc3-mNG_homozygote_knockins_amp_213_215_seq_13'],\n",
       " [27, '27_20220303arpc3-mNG_homozygote_knockins_amp_213_215_seq_99'],\n",
       " [28, '28_20220303arpc3-mNG_homozygote_knockins_amp_213_215_seq_100'],\n",
       " [29, '29_20220303arpc3-mNG_homozygote_knockins_amp_213_215_seq_43'],\n",
       " [30, '30_20220303arpc3-mNG_homozygote_knockins_amp_213_215_seq_41'],\n",
       " [31, '31_20220303arpc3-mNG_homozygote_knockins_amp_213_215_seq_220'],\n",
       " [32, '32_20220303arpc3-mNG_homozygote_knockins_amp_213_215_seq_213'],\n",
       " [33, '33_20220303arpc3-mNG_homozygote_knockins_amp_213_215_seq_215'],\n",
       " [34, '34_20220303arpc3-mNG_homozygote_knockins_amp_213_215_seq_13'],\n",
       " [35, '35_20220303arpc3-mNG_homozygote_knockins_amp_213_215_seq_99'],\n",
       " [36, '36_20220303arpc3-mNG_homozygote_knockins_amp_213_215_seq_100'],\n",
       " [37, '37_20220303arpc3-mNG_homozygote_knockins_amp_213_215_seq_43'],\n",
       " [38, '38_20220303arpc3-mNG_homozygote_knockins_amp_213_215_seq_41'],\n",
       " [39, '39_20220303arpc3-mNG_homozygote_knockins_amp_213_215_seq_220'],\n",
       " [40, '40_20220303arpc3-mNG_homozygote_knockins_amp_213_215_seq_213'],\n",
       " [41, '41_20220303arpc3-mNG_homozygote_knockins_amp_213_215_seq_215'],\n",
       " [42, '42_20220303arpc3-mNG_homozygote_knockins_amp_213_215_seq_13'],\n",
       " [43, '43_20220303arpc3-mNG_homozygote_knockins_amp_213_215_seq_99'],\n",
       " [44, '44_20220303arpc3-mNG_homozygote_knockins_amp_213_215_seq_100'],\n",
       " [45, '45_20220303arpc3-mNG_homozygote_knockins_amp_213_215_seq_43'],\n",
       " [46, '46_20220303arpc3-mNG_homozygote_knockins_amp_213_215_seq_41'],\n",
       " [47, '47_20220303arpc3-mNG_homozygote_knockins_amp_213_215_seq_220'],\n",
       " [48, '48_20220303arpc3-mNG_homozygote_knockins_amp_213_215_seq_213'],\n",
       " [49, '49_20220303arpc3-mNG_homozygote_knockins_amp_213_215_seq_215'],\n",
       " [50, '50_20220303arpc3-mNG_homozygote_knockins_amp_213_215_seq_13'],\n",
       " [51, '51_20220303arpc3-mNG_homozygote_knockins_amp_213_215_seq_99'],\n",
       " [52, '52_20220303arpc3-mNG_homozygote_knockins_amp_213_215_seq_100'],\n",
       " [53, '53_20220303arpc3-mNG_homozygote_knockins_amp_213_215_seq_43'],\n",
       " [54, '54_20220303arpc3-mNG_homozygote_knockins_amp_213_215_seq_41'],\n",
       " [55, '55_20220303arpc3-mNG_homozygote_knockins_amp_213_215_seq_220'],\n",
       " [56, '56_20220303arpc3-mNG_homozygote_knockins_amp_213_215_seq_213']]"
      ]
     },
     "execution_count": 11,
     "metadata": {},
     "output_type": "execute_result"
    }
   ],
   "source": [
    "\n",
    "dict = generate_dict('20220303', \n",
    "                     ['arpc3-mNG_homozygote_knockins_'],\n",
    "                     ['amp_213_215' for x in range(7)],\n",
    "                     [215, 13, 99, 100, 43, 41, 220, 213],\n",
    "                     oligos_first=False,\n",
    "                     same_last=True)\n",
    "generate_csv(dict, \"Test Data/name_ref.csv\", append=False)"
   ]
  },
  {
   "cell_type": "code",
   "execution_count": null,
   "id": "5e2bb4cf-1a34-41f1-bc19-5b2238eb75f3",
   "metadata": {},
   "outputs": [],
   "source": []
  }
 ],
 "metadata": {
  "kernelspec": {
   "display_name": "Python 3 (ipykernel)",
   "language": "python",
   "name": "python3"
  },
  "language_info": {
   "codemirror_mode": {
    "name": "ipython",
    "version": 3
   },
   "file_extension": ".py",
   "mimetype": "text/x-python",
   "name": "python",
   "nbconvert_exporter": "python",
   "pygments_lexer": "ipython3",
   "version": "3.9.10"
  }
 },
 "nbformat": 4,
 "nbformat_minor": 5
}
