{
 "cells": [
  {
   "cell_type": "code",
   "execution_count": 35,
   "id": "a4ebef1a-0b1f-4434-95b0-89118724e5bb",
   "metadata": {},
   "outputs": [],
   "source": [
    "import csv"
   ]
  },
  {
   "cell_type": "code",
   "execution_count": 61,
   "id": "eaf120af-526b-422b-abca-63d9fe4c7d39",
   "metadata": {},
   "outputs": [],
   "source": [
    "# generate csv to organize sequencing prep\n",
    "def generate_csv(dict, output_path): \n",
    "    \n",
    "    # TODO: maybe use pandas for csv writing to simplify code\n",
    "    \n",
    "    header = ['index', 'gene', 'clone', 'oligo']\n",
    "    matrix = []\n",
    "    index = 1\n",
    "    for i in range(len(dict['genes'])): \n",
    "        for j in range(len(dict['clones'])): \n",
    "            for k in range(len(dict['clones'][j])): \n",
    "                matrix.append([index, dict['genes'][i], dict['clones'][j][k], dict['oligos'][j][k]])\n",
    "                index += 1\n",
    " \n",
    "    csv_file = open(\"Test Data/name_ref.csv\", \"w\")\n",
    "    csvwriter = csv.writer(csv_file)\n",
    "    csvwriter.writerow(header)\n",
    "    csvwriter.writerows(matrix)\n",
    "    csv_file.close()\n",
    "    \n",
    "            "
   ]
  },
  {
   "cell_type": "code",
   "execution_count": 62,
   "id": "3a9bffcb-db09-436d-b20b-b4fde6f0bf01",
   "metadata": {},
   "outputs": [],
   "source": [
    "\"\"\"\n",
    "generate the dict to pass in\n",
    "example/info for inputs: \n",
    "    base: string\n",
    "    genes: [gene1, gene2...]\n",
    "    clones: [[1-3], [4-6]...] (must match genes, may want to automate this somehow)\n",
    "    oligos: [[2, 3, 4], [2, 6, 7]...] (dimensions must match clones)\n",
    "    same_oligos: if true, oligos can just be [24, 5, 3] and assume applies to all sets of clones\n",
    "    oligos_first: FIXME\n",
    "\"\"\"\n",
    "def generate_dict(base, genes, clones, oligos, same_oligos=False, oligos_first=False): \n",
    "    pass"
   ]
  },
  {
   "cell_type": "code",
   "execution_count": 63,
   "id": "574799c1-5bb2-4dad-ab43-ce30dc1eee3a",
   "metadata": {},
   "outputs": [],
   "source": [
    "# return a nx2 matrix of indexes + names for renaming purposes\n",
    "def generate_names(ref_csv): \n",
    "    pass\n"
   ]
  },
  {
   "cell_type": "code",
   "execution_count": 64,
   "id": "204d411c-8a8a-4ee8-a380-0ff7c6f7f9c9",
   "metadata": {},
   "outputs": [],
   "source": [
    "test_dict = {\n",
    "    'base': 'test', \n",
    "    'genes': ['arpc3-mSI_ox_RNF_F1'], \n",
    "    'clones': [['fish1', 'fish2', 'fish3'], ['fish4', 'fish5', 'fish6']], \n",
    "    'oligos': [[1, 2, 3], [1, 2, 4]]\n",
    "            }\n",
    "generate_csv(test_dict, '')"
   ]
  },
  {
   "cell_type": "code",
   "execution_count": null,
   "id": "62218d79-2e0d-4b23-aa87-9e85937148fb",
   "metadata": {},
   "outputs": [],
   "source": []
  },
  {
   "cell_type": "code",
   "execution_count": null,
   "id": "5e2bb4cf-1a34-41f1-bc19-5b2238eb75f3",
   "metadata": {},
   "outputs": [],
   "source": []
  }
 ],
 "metadata": {
  "kernelspec": {
   "display_name": "Python 3 (ipykernel)",
   "language": "python",
   "name": "python3"
  },
  "language_info": {
   "codemirror_mode": {
    "name": "ipython",
    "version": 3
   },
   "file_extension": ".py",
   "mimetype": "text/x-python",
   "name": "python",
   "nbconvert_exporter": "python",
   "pygments_lexer": "ipython3",
   "version": "3.9.10"
  }
 },
 "nbformat": 4,
 "nbformat_minor": 5
}
