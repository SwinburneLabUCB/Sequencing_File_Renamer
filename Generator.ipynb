{
 "cells": [
  {
   "cell_type": "code",
   "execution_count": 1,
   "id": "a4ebef1a-0b1f-4434-95b0-89118724e5bb",
   "metadata": {},
   "outputs": [],
   "source": [
    "import csv"
   ]
  },
  {
   "cell_type": "code",
   "execution_count": 2,
   "id": "eaf120af-526b-422b-abca-63d9fe4c7d39",
   "metadata": {},
   "outputs": [],
   "source": [
    "# generate csv to organize sequencing prep\n",
    "def generate_csv(dict, output_path): \n",
    "    \n",
    "    # TODO: maybe use pandas for csv writing to simplify code\n",
    "    \n",
    "    header = dict['header']\n",
    "    matrix = []\n",
    "    index = 1\n",
    "    for i in range(len(dict['genes'])): \n",
    "        for j in range(len(dict['clones'])): \n",
    "            for k in range(len(dict['clones'][j])): \n",
    "                matrix.append([dict['base'], index, dict['genes'][i], dict['clones'][j][k], dict['oligos'][j][k]])\n",
    "                index += 1\n",
    " \n",
    "    csv_file = open(\"Test Data/name_ref.csv\", \"w\")\n",
    "    csvwriter = csv.writer(csv_file)\n",
    "    csvwriter.writerow(header)\n",
    "    csvwriter.writerows(matrix)\n",
    "    csv_file.close()\n",
    "    \n",
    "            "
   ]
  },
  {
   "cell_type": "code",
   "execution_count": 17,
   "id": "3a9bffcb-db09-436d-b20b-b4fde6f0bf01",
   "metadata": {},
   "outputs": [],
   "source": [
    "\"\"\"\n",
    "generate the dict to pass in\n",
    "example/info for inputs: \n",
    "    base: string\n",
    "    genes: [gene1, gene2...]\n",
    "    clones: [[1-3], [4-6]...] (must match genes, may want to automate this somehow)\n",
    "    oligos: [[2, 3, 4], [2, 6, 7]...] (dimensions must match clones)\n",
    "    same_oligos: if true, oligos can just be [24, 5, 3] and assume applies to all sets of clones\n",
    "    oligos_first: FIXME \n",
    "\"\"\"\n",
    "def generate_dict(base, genes, clones, oligos, oligos_first=False, same_last=False): \n",
    "    \n",
    "    result = {};\n",
    "    if not oligos_first: \n",
    "        result['header'] = ['base', 'index', 'genes', 'clones', 'oligos']\n",
    "        if not same_last: \n",
    "            result['clones'] = clones\n",
    "            result['oligos'] = oligos\n",
    "        else: \n",
    "            result['clones'], result['oligos'] = [], []\n",
    "            for i in range(len(clones)):\n",
    "                temp_clones, temp_oligos = [], []\n",
    "                for j in range(len(oligos)): \n",
    "                    temp_clones.append(clones[i])\n",
    "                    temp_oligos.append(oligos[j])\n",
    "                result['clones'].append(temp_clones)\n",
    "                result['oligos'].append(temp_oligos)\n",
    "                    \n",
    "    else: \n",
    "        result['header'] = ['base', 'index', 'genes', 'oligos', 'clones']\n",
    "        if not same_last: \n",
    "            result['oligos'] = clones\n",
    "            result['clones'] = oligos\n",
    "        else: \n",
    "            result['oligos'], result['clones'] = [], []\n",
    "            for i in range(len(oligos)):\n",
    "                temp_clones, temp_oligos = [], []\n",
    "                for j in range(len(clones)): \n",
    "                    temp_clones.append(oligos[i])\n",
    "                    temp_oligos.append(clones[j])\n",
    "                result['clones'].append(temp_clones)\n",
    "                result['oligos'].append(temp_oligos)\n",
    "    \n",
    "    result['base'] = base\n",
    "    result['genes'] = genes\n",
    "    \n",
    "    \n",
    "    \n",
    "    return result"
   ]
  },
  {
   "cell_type": "code",
   "execution_count": 18,
   "id": "574799c1-5bb2-4dad-ab43-ce30dc1eee3a",
   "metadata": {},
   "outputs": [],
   "source": [
    "# return a nx2 matrix of indexes + names for renaming purposes\n",
    "def generate_names(ref_csv): \n",
    "    pass\n"
   ]
  },
  {
   "cell_type": "code",
   "execution_count": 19,
   "id": "204d411c-8a8a-4ee8-a380-0ff7c6f7f9c9",
   "metadata": {},
   "outputs": [],
   "source": [
    "\n",
    "dict = generate_dict('20220302', \n",
    "                     ['arpc3-mSI_ox_RNF_F1_amp_2_3', 'arpc3-mSI_ox_RNF_F1_amp_4_5'],\n",
    "                     ['fish1', 'fish2', 'fish3'], \n",
    "                     [1, 2, 3], \n",
    "                     oligos_first=True,\n",
    "                     same_last=True)\n",
    "generate_csv(dict, '')"
   ]
  },
  {
   "cell_type": "code",
   "execution_count": null,
   "id": "62218d79-2e0d-4b23-aa87-9e85937148fb",
   "metadata": {},
   "outputs": [],
   "source": []
  },
  {
   "cell_type": "code",
   "execution_count": null,
   "id": "5e2bb4cf-1a34-41f1-bc19-5b2238eb75f3",
   "metadata": {},
   "outputs": [],
   "source": []
  }
 ],
 "metadata": {
  "kernelspec": {
   "display_name": "Python 3 (ipykernel)",
   "language": "python",
   "name": "python3"
  },
  "language_info": {
   "codemirror_mode": {
    "name": "ipython",
    "version": 3
   },
   "file_extension": ".py",
   "mimetype": "text/x-python",
   "name": "python",
   "nbconvert_exporter": "python",
   "pygments_lexer": "ipython3",
   "version": "3.9.10"
  }
 },
 "nbformat": 4,
 "nbformat_minor": 5
}
