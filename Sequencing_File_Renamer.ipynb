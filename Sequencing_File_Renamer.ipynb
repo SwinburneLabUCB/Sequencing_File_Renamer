{
 "cells": [
  {
   "cell_type": "markdown",
   "id": "7eaf62d0-4c00-468d-9e65-a6dbe8fa57f9",
   "metadata": {},
   "source": [
    "# File Renamer\n",
    "\n",
    "## Evan Huang, Swinburne Lab, UC Berkeley\n",
    "\n",
    "This program renames all files in a directory of sequencing data with the suffix .ab1 or .seq based on a user-inputted reference csv. It will make a copy of the renamed data with a copy of the original data. Note this program will not work with versions of Python older than 3.8. \n",
    "\n",
    "(add reference csv examples)"
   ]
  },
  {
   "cell_type": "code",
   "execution_count": 2,
   "id": "de73507d-da83-44f3-b869-9b1be91afb82",
   "metadata": {},
   "outputs": [],
   "source": [
    "import os\n",
    "import shutil\n",
    "import csv\n",
    "import re\n",
    "import ipywidgets as widgets"
   ]
  },
  {
   "cell_type": "markdown",
   "id": "904f8928-a794-4809-b091-34865c010533",
   "metadata": {},
   "source": [
    "This helper function reads in the reference csv and returns a nx2 matrix of indices and names. "
   ]
  },
  {
   "cell_type": "code",
   "execution_count": 3,
   "id": "b408cfad-beb6-4f62-adee-e839827c4e12",
   "metadata": {},
   "outputs": [],
   "source": [
    "def read_csv(csv_path): \n",
    "    \"\"\" helper function to read reference csv. make sure csv has a header row \"\"\"\n",
    "    csv_file = open(csv_path)\n",
    "    csvreader = csv.reader(csv_file)\n",
    "    next(csvreader)\n",
    "    matrix = []\n",
    "    for row in csvreader: \n",
    "        matrix.append(row)\n",
    "    csv_file.close()\n",
    "    \n",
    "    # check csv in correct format\n",
    "    assert len(matrix) > 0\n",
    "    assert len(matrix[0]) >= 2\n",
    "    \n",
    "    return matrix\n",
    "    "
   ]
  },
  {
   "cell_type": "markdown",
   "id": "1c647f04-0696-415e-b53b-0eff66a5a657",
   "metadata": {},
   "source": [
    "This is the function that renames the files. It takes in the path to the reference csv, the path to the sequencing files directory, the output path. It searches for the index of each file in the original directory by looking for the number after a dash in each files name, so please ensure the file indices correspond in your input csv. The suffix variable should be set to whatever file type you would like to rename ('.ab1', '.seq', etc.)  or 'both' if you want to rename .ab1 and .seq files. "
   ]
  },
  {
   "cell_type": "code",
   "execution_count": 4,
   "id": "b8a23755-d70b-4d1c-afb2-968f64e2ecfc",
   "metadata": {},
   "outputs": [],
   "source": [
    "def renamer(ref_csv, input_path, output_path, suffix, prepend=False): \n",
    "    \n",
    "    if suffix == 'both': \n",
    "        renamer(ref_csv, input_path, output_path, '.ab1', prepend)\n",
    "        suffix = '.seq'\n",
    "        \n",
    "        \n",
    "    # add period to front of suffix if not added by user\n",
    "    if suffix[0] != '.': \n",
    "        suffix = '.' + suffix\n",
    "        \n",
    "    \n",
    "    names_ref = read_csv(ref_csv)\n",
    "    \n",
    "    # make output dir if doesn't already exist\n",
    "    if not os.path.isdir(output_path): \n",
    "        os.mkdir(output_path)\n",
    "        \n",
    "    # make a copy of original directory and put it in output path (for safekeeping purposes)\n",
    "    copy_data_path = output_path + \"/data_copy\"\n",
    "    if not os.path.exists(copy_data_path): \n",
    "        os.mkdir(copy_data_path)\n",
    "    shutil.copytree(input_path, copy_data_path, dirs_exist_ok=True)\n",
    "    \n",
    "    # get all genotyping files and their indices\n",
    "    input_dir_raw = os.listdir(input_path)\n",
    "    ab_files = [x for x in input_dir_raw if x[-len(suffix):] == suffix]\n",
    "    ab_file_indices = [int(re.findall('-\\d+', x)[0][1:]) for x in ab_files]\n",
    "    \n",
    "    # get corresponding name for each file based on index and suffix, not including the suffix in the return value\n",
    "    def findName(ab_file_index): \n",
    "        for i in names_ref: \n",
    "            if len(i[0]) > 0 and len(i[1]) > 0 and int(i[0]) == ab_file_index: \n",
    "                if i[1][-len(suffix):] == suffix: \n",
    "                    return i[0] + \"_\" + i[1][:-len(suffix)]\n",
    "                else: \n",
    "                    return i[0] + \"_\" + i[1]\n",
    "        raise Exception(\"cannot find index in csv\")\n",
    "    \n",
    "    # copy and rename each file using reference csv\n",
    "    for i in range(len(ab_file_indices)):\n",
    "        new_path = shutil.copy2(input_path+\"/\"+ab_files[i], output_path)\n",
    "        new_name_raw = findName(ab_file_indices[i])\n",
    "        if not prepend: \n",
    "            new_name = f\"{output_path}/{new_name_raw}{suffix}\"\n",
    "            \n",
    "        else: \n",
    "            new_name = f\"{output_path}/{new_name_raw}_{ab_files[i]}\"\n",
    "        os.rename(src=new_path, dst=new_name)"
   ]
  },
  {
   "cell_type": "markdown",
   "id": "29a914a1-7de1-45ce-8d2d-010dfd68e0ea",
   "metadata": {},
   "source": [
    "# [Setup Guide](https://docs.google.com/document/d/1nstSoI9pFRei7pu8AAqdtOgbb1B34kcdZqy_U5lsKfM/edit?usp=sharing)\n",
    "This guide contains step-by-step instructions to run this renamer. Please be sure to read it in its entirety to ensure the program works as intended. Below are example runs of the renamer, including a widget for the function. "
   ]
  },
  {
   "cell_type": "code",
   "execution_count": 5,
   "id": "c3eb34ba-a60c-44db-91cf-10ed3fd172af",
   "metadata": {},
   "outputs": [
    {
     "data": {
      "application/vnd.jupyter.widget-view+json": {
       "model_id": "9f7f47de8455463eaf97729efae8516b",
       "version_major": 2,
       "version_minor": 0
      },
      "text/plain": [
       "interactive(children=(Text(value='', description='ref_csv'), Text(value='', description='input_path'), Text(va…"
      ]
     },
     "metadata": {},
     "output_type": "display_data"
    },
    {
     "data": {
      "text/plain": [
       "<function __main__.renamer(ref_csv, input_path, output_path, suffix, prepend=False)>"
      ]
     },
     "execution_count": 5,
     "metadata": {},
     "output_type": "execute_result"
    }
   ],
   "source": [
    "widgets.interact_manual(renamer, \n",
    "                 ref_csv=\"\", \n",
    "                 input_path=\"\", \n",
    "                 output_path=\"\",\n",
    "                 suffix=\"\",\n",
    "                 prepend=\"\")"
   ]
  },
  {
   "cell_type": "code",
   "execution_count": 5,
   "id": "d155b296-e342-4575-8528-8ce2e8059980",
   "metadata": {},
   "outputs": [],
   "source": [
    "renamer(\"Test Data/name_ref.csv\", \n",
    "        \"Test Data/files_to_rename\", \n",
    "        \"Test Data/output_dir\", \n",
    "        \"both\")\n",
    "\n"
   ]
  },
  {
   "cell_type": "code",
   "execution_count": null,
   "id": "bd902042-cbbe-4973-a88a-9ee2d9e5764f",
   "metadata": {},
   "outputs": [],
   "source": []
  }
 ],
 "metadata": {
  "kernelspec": {
   "display_name": "Python 3 (ipykernel)",
   "language": "python",
   "name": "python3"
  },
  "language_info": {
   "codemirror_mode": {
    "name": "ipython",
    "version": 3
   },
   "file_extension": ".py",
   "mimetype": "text/x-python",
   "name": "python",
   "nbconvert_exporter": "python",
   "pygments_lexer": "ipython3",
   "version": "3.9.7"
  }
 },
 "nbformat": 4,
 "nbformat_minor": 5
}
