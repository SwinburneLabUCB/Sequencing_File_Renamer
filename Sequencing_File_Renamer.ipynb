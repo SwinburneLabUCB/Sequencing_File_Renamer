{
 "cells": [
  {
   "cell_type": "code",
   "execution_count": 5,
   "id": "de73507d-da83-44f3-b869-9b1be91afb82",
   "metadata": {},
   "outputs": [],
   "source": [
    "import os\n",
    "import shutil\n",
    "import csv\n",
    "import re"
   ]
  },
  {
   "cell_type": "code",
   "execution_count": 6,
   "id": "b8a23755-d70b-4d1c-afb2-968f64e2ecfc",
   "metadata": {},
   "outputs": [],
   "source": [
    "def renamer(ref_csv, input_path, output_path): \n",
    "    \n",
    "    # read reference csv\n",
    "    csv_file = open(ref_csv)\n",
    "    csvreader = csv.reader(csv_file)\n",
    "    next(csvreader)\n",
    "    names_ref = []\n",
    "    for row in csvreader: \n",
    "        names_ref.append(row)\n",
    "    csv_file.close()\n",
    "    \n",
    "    # make output dir if doesn't already exist\n",
    "    if not os.path.isdir(output_path): \n",
    "        os.mkdir(output_path)\n",
    "        \n",
    "    # make a copy of original directory and put it in output path\n",
    "    copy_data_path = output_path + \"/data_copy\"\n",
    "    if not os.path.exists(copy_data_path): \n",
    "        os.mkdir(copy_data_path)\n",
    "    shutil.copytree(input_path, copy_data_path, dirs_exist_ok=True)\n",
    "    \n",
    "    # get all .ab1 files and their indices\n",
    "    input_dir_raw = os.listdir(input_path)\n",
    "    ab_files = [x for x in input_dir_raw if x[-4:] == '.ab1']\n",
    "    ab_file_indices = [int(re.findall('-\\d+', x)[0][1:]) for x in ab_files]\n",
    "    \n",
    "    # get corresponding name for each file based on index\n",
    "    def findName(ab_file_index): \n",
    "        for i in names_ref: \n",
    "            if int(i[0]) == ab_file_index: \n",
    "                return i[1]\n",
    "        raise Exception(\"cannot find index in csv\")\n",
    "    \n",
    "    # copy and rename each file with reference string\n",
    "    for i in range(len(ab_file_indices)):\n",
    "        new_path = shutil.copy2(input_path+\"/\"+ab_files[i], output_path)\n",
    "        \n",
    "        os.rename(src=new_path, dst=f\"{output_path}/{findName(ab_file_indices[i])}\")"
   ]
  },
  {
   "cell_type": "code",
   "execution_count": 7,
   "id": "d155b296-e342-4575-8528-8ce2e8059980",
   "metadata": {},
   "outputs": [],
   "source": [
    "renamer(\"Test Data/name_ref.csv\", \"Test Data/files_to_rename\", 'Test Data/output_dir')"
   ]
  },
  {
   "cell_type": "code",
   "execution_count": null,
   "id": "16b76651-1b2a-4a3e-bf8f-04404c386106",
   "metadata": {},
   "outputs": [],
   "source": []
  },
  {
   "cell_type": "code",
   "execution_count": null,
   "id": "424a704f-51be-4c1c-ae87-25383cdb149a",
   "metadata": {},
   "outputs": [],
   "source": []
  }
 ],
 "metadata": {
  "kernelspec": {
   "display_name": "Python 3 (ipykernel)",
   "language": "python",
   "name": "python3"
  },
  "language_info": {
   "codemirror_mode": {
    "name": "ipython",
    "version": 3
   },
   "file_extension": ".py",
   "mimetype": "text/x-python",
   "name": "python",
   "nbconvert_exporter": "python",
   "pygments_lexer": "ipython3",
   "version": "3.9.10"
  }
 },
 "nbformat": 4,
 "nbformat_minor": 5
}
