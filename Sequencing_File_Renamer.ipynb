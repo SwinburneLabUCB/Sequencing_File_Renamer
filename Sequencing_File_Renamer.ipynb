{
 "cells": [
  {
   "cell_type": "code",
   "execution_count": 18,
   "id": "de73507d-da83-44f3-b869-9b1be91afb82",
   "metadata": {},
   "outputs": [],
   "source": [
    "import os\n",
    "import shutil\n",
    "import csv\n",
    "import re\n",
    "import ipywidgets as widgets"
   ]
  },
  {
   "cell_type": "code",
   "execution_count": 24,
   "id": "b408cfad-beb6-4f62-adee-e839827c4e12",
   "metadata": {},
   "outputs": [],
   "source": [
    "def read_csv(csv_path, from_gen=False): \n",
    "    \"\"\" helper function to read reference csv \"\"\"\n",
    "    csv_file = open(csv_path)\n",
    "    csvreader = csv.reader(csv_file)\n",
    "    next(csvreader)\n",
    "    matrix = []\n",
    "    for row in csvreader: \n",
    "        matrix.append(row)\n",
    "    csv_file.close()\n",
    "    \n",
    "    # check csv in correct format, may change later to accommodate more functionality\n",
    "    assert len(matrix) > 0\n",
    "    assert len(matrix[0]) >= 2\n",
    "    \n",
    "    return matrix\n",
    "    "
   ]
  },
  {
   "cell_type": "code",
   "execution_count": 40,
   "id": "b8a23755-d70b-4d1c-afb2-968f64e2ecfc",
   "metadata": {},
   "outputs": [],
   "source": [
    "def renamer(ref_csv, input_path, output_path, prepend=False, from_gen=False): \n",
    "    \"\"\" renames sequencing file according to reference csv \"\"\"\n",
    "    names_ref = read_csv(ref_csv)\n",
    "    \n",
    "    # make output dir if doesn't already exist\n",
    "    if not os.path.isdir(output_path): \n",
    "        os.mkdir(output_path)\n",
    "        \n",
    "    # make a copy of original directory and put it in output path (for safekeeping purposes)\n",
    "    copy_data_path = output_path + \"/data_copy\"\n",
    "    if not os.path.exists(copy_data_path): \n",
    "        os.mkdir(copy_data_path)\n",
    "    shutil.copytree(input_path, copy_data_path, dirs_exist_ok=True)\n",
    "    \n",
    "    # get all .ab1 files and their indices\n",
    "    input_dir_raw = os.listdir(input_path)\n",
    "    ab_files = [x for x in input_dir_raw if x[-4:] == '.ab1']\n",
    "    ab_file_indices = [int(re.findall('-\\d+', x)[0][1:]) for x in ab_files]\n",
    "    \n",
    "    # get corresponding name for each file based on index\n",
    "    def findName(ab_file_index): \n",
    "        for i in names_ref: \n",
    "            if int(i[0]) == ab_file_index: \n",
    "                # check if user put .ab1 suffix in ref csv\n",
    "                if len(i[1]) > 4 and i[1][-4:] == '.ab1': \n",
    "                    return i[0] + \"_\" + i[1][:-4]\n",
    "                else: \n",
    "                    return i[0] + \"_\" + i[1]\n",
    "        raise Exception(\"cannot find index in csv\")\n",
    "    \n",
    "    # copy and rename each file using reference csv\n",
    "    for i in range(len(ab_file_indices)):\n",
    "        new_path = shutil.copy2(input_path+\"/\"+ab_files[i], output_path)\n",
    "        %run Generator.ipynb\n",
    "        new_name = findName(ab_file_indices[i]) if not from_gen else generate_names(names_ref)\n",
    "        if not prepend: \n",
    "            new_name = f\"{output_path}/{new_name}.ab1\"\n",
    "            \n",
    "        else: \n",
    "            new_name = f\"{output_path}/{new_name}_{ab_files[i]}\"\n",
    "        os.rename(src=new_path, dst=new_name)"
   ]
  },
  {
   "cell_type": "code",
   "execution_count": 41,
   "id": "c3eb34ba-a60c-44db-91cf-10ed3fd172af",
   "metadata": {},
   "outputs": [
    {
     "data": {
      "application/vnd.jupyter.widget-view+json": {
       "model_id": "b191cee1d7a74a3abb984f9f444a914d",
       "version_major": 2,
       "version_minor": 0
      },
      "text/plain": [
       "interactive(children=(Text(value='', description='ref_csv'), Text(value='', description='input_path'), Text(va…"
      ]
     },
     "metadata": {},
     "output_type": "display_data"
    },
    {
     "data": {
      "text/plain": [
       "<function __main__.renamer(ref_csv, input_path, output_path, prepend=False, from_gen=False)>"
      ]
     },
     "execution_count": 41,
     "metadata": {},
     "output_type": "execute_result"
    }
   ],
   "source": [
    "widgets.interact_manual(renamer, \n",
    "                 ref_csv=\"\", \n",
    "                 input_path=\"\", \n",
    "                 output_path=\"\")"
   ]
  },
  {
   "cell_type": "code",
   "execution_count": 42,
   "id": "d155b296-e342-4575-8528-8ce2e8059980",
   "metadata": {},
   "outputs": [
    {
     "data": {
      "application/vnd.jupyter.widget-view+json": {
       "model_id": "d8d6b856860b4e75899f2d1635cb715a",
       "version_major": 2,
       "version_minor": 0
      },
      "text/plain": [
       "interactive(children=(Text(value='', description='base'), Text(value='', description='genes'), Text(value='', …"
      ]
     },
     "metadata": {},
     "output_type": "display_data"
    },
    {
     "data": {
      "application/vnd.jupyter.widget-view+json": {
       "model_id": "25be94c55baf4f5fa2fc35b9beea9df4",
       "version_major": 2,
       "version_minor": 0
      },
      "text/plain": [
       "interactive(children=(Text(value='', description='base'), Text(value='', description='genes'), Text(value='', …"
      ]
     },
     "metadata": {},
     "output_type": "display_data"
    },
    {
     "ename": "OSError",
     "evalue": "[Errno 63] File name too long: 'Test Data/output_dir/42-2_B06_046.ab1' -> \"Test Data/output_dir/[['1_20220303arpc3-mNG_homozygote_knockins_amp_213_215_seq_215', '1_20220303arpc3-mNG_homozygote_knockins_amp_213_215_seq_215_1'], ['2_20220303arpc3-mNG_homozygote_knockins_amp_213_215_seq_13', '2_20220303arpc3-mNG_homozygote_knockins_amp_213_215_seq_13_2'], ['3_20220303arpc3-mNG_homozygote_knockins_amp_213_215_seq_99', '3_20220303arpc3-mNG_homozygote_knockins_amp_213_215_seq_99_3'], ['4_20220303arpc3-mNG_homozygote_knockins_amp_213_215_seq_100', '4_20220303arpc3-mNG_homozygote_knockins_amp_213_215_seq_100_4'], ['5_20220303arpc3-mNG_homozygote_knockins_amp_213_215_seq_43', '5_20220303arpc3-mNG_homozygote_knockins_amp_213_215_seq_43_5'], ['6_20220303arpc3-mNG_homozygote_knockins_amp_213_215_seq_41', '6_20220303arpc3-mNG_homozygote_knockins_amp_213_215_seq_41_6'], ['7_20220303arpc3-mNG_homozygote_knockins_amp_213_215_seq_220', '7_20220303arpc3-mNG_homozygote_knockins_amp_213_215_seq_220_7'], ['8_20220303arpc3-mNG_homozygote_knockins_amp_213_215_seq_213', '8_20220303arpc3-mNG_homozygote_knockins_amp_213_215_seq_213_8'], ['9_20220303arpc3-mNG_homozygote_knockins_amp_213_215_seq_215', '9_20220303arpc3-mNG_homozygote_knockins_amp_213_215_seq_215_9'], ['10_20220303arpc3-mNG_homozygote_knockins_amp_213_215_seq_13', '10_20220303arpc3-mNG_homozygote_knockins_amp_213_215_seq_13_10'], ['11_20220303arpc3-mNG_homozygote_knockins_amp_213_215_seq_99', '11_20220303arpc3-mNG_homozygote_knockins_amp_213_215_seq_99_11'], ['12_20220303arpc3-mNG_homozygote_knockins_amp_213_215_seq_100', '12_20220303arpc3-mNG_homozygote_knockins_amp_213_215_seq_100_12'], ['13_20220303arpc3-mNG_homozygote_knockins_amp_213_215_seq_43', '13_20220303arpc3-mNG_homozygote_knockins_amp_213_215_seq_43_13'], ['14_20220303arpc3-mNG_homozygote_knockins_amp_213_215_seq_41', '14_20220303arpc3-mNG_homozygote_knockins_amp_213_215_seq_41_14'], ['15_20220303arpc3-mNG_homozygote_knockins_amp_213_215_seq_220', '15_20220303arpc3-mNG_homozygote_knockins_amp_213_215_seq_220_15'], ['16_20220303arpc3-mNG_homozygote_knockins_amp_213_215_seq_213', '16_20220303arpc3-mNG_homozygote_knockins_amp_213_215_seq_213_16'], ['17_20220303arpc3-mNG_homozygote_knockins_amp_213_215_seq_215', '17_20220303arpc3-mNG_homozygote_knockins_amp_213_215_seq_215_17'], ['18_20220303arpc3-mNG_homozygote_knockins_amp_213_215_seq_13', '18_20220303arpc3-mNG_homozygote_knockins_amp_213_215_seq_13_18'], ['19_20220303arpc3-mNG_homozygote_knockins_amp_213_215_seq_99', '19_20220303arpc3-mNG_homozygote_knockins_amp_213_215_seq_99_19'], ['20_20220303arpc3-mNG_homozygote_knockins_amp_213_215_seq_100', '20_20220303arpc3-mNG_homozygote_knockins_amp_213_215_seq_100_20'], ['21_20220303arpc3-mNG_homozygote_knockins_amp_213_215_seq_43', '21_20220303arpc3-mNG_homozygote_knockins_amp_213_215_seq_43_21'], ['22_20220303arpc3-mNG_homozygote_knockins_amp_213_215_seq_41', '22_20220303arpc3-mNG_homozygote_knockins_amp_213_215_seq_41_22'], ['23_20220303arpc3-mNG_homozygote_knockins_amp_213_215_seq_220', '23_20220303arpc3-mNG_homozygote_knockins_amp_213_215_seq_220_23'], ['24_20220303arpc3-mNG_homozygote_knockins_amp_213_215_seq_213', '24_20220303arpc3-mNG_homozygote_knockins_amp_213_215_seq_213_24'], ['25_20220303arpc3-mNG_homozygote_knockins_amp_213_215_seq_215', '25_20220303arpc3-mNG_homozygote_knockins_amp_213_215_seq_215_25'], ['26_20220303arpc3-mNG_homozygote_knockins_amp_213_215_seq_13', '26_20220303arpc3-mNG_homozygote_knockins_amp_213_215_seq_13_26'], ['27_20220303arpc3-mNG_homozygote_knockins_amp_213_215_seq_99', '27_20220303arpc3-mNG_homozygote_knockins_amp_213_215_seq_99_27'], ['28_20220303arpc3-mNG_homozygote_knockins_amp_213_215_seq_100', '28_20220303arpc3-mNG_homozygote_knockins_amp_213_215_seq_100_28'], ['29_20220303arpc3-mNG_homozygote_knockins_amp_213_215_seq_43', '29_20220303arpc3-mNG_homozygote_knockins_amp_213_215_seq_43_29'], ['30_20220303arpc3-mNG_homozygote_knockins_amp_213_215_seq_41', '30_20220303arpc3-mNG_homozygote_knockins_amp_213_215_seq_41_30'], ['31_20220303arpc3-mNG_homozygote_knockins_amp_213_215_seq_220', '31_20220303arpc3-mNG_homozygote_knockins_amp_213_215_seq_220_31'], ['32_20220303arpc3-mNG_homozygote_knockins_amp_213_215_seq_213', '32_20220303arpc3-mNG_homozygote_knockins_amp_213_215_seq_213_32'], ['33_20220303arpc3-mNG_homozygote_knockins_amp_213_215_seq_215', '33_20220303arpc3-mNG_homozygote_knockins_amp_213_215_seq_215_33'], ['34_20220303arpc3-mNG_homozygote_knockins_amp_213_215_seq_13', '34_20220303arpc3-mNG_homozygote_knockins_amp_213_215_seq_13_34'], ['35_20220303arpc3-mNG_homozygote_knockins_amp_213_215_seq_99', '35_20220303arpc3-mNG_homozygote_knockins_amp_213_215_seq_99_35'], ['36_20220303arpc3-mNG_homozygote_knockins_amp_213_215_seq_100', '36_20220303arpc3-mNG_homozygote_knockins_amp_213_215_seq_100_36'], ['37_20220303arpc3-mNG_homozygote_knockins_amp_213_215_seq_43', '37_20220303arpc3-mNG_homozygote_knockins_amp_213_215_seq_43_37'], ['38_20220303arpc3-mNG_homozygote_knockins_amp_213_215_seq_41', '38_20220303arpc3-mNG_homozygote_knockins_amp_213_215_seq_41_38'], ['39_20220303arpc3-mNG_homozygote_knockins_amp_213_215_seq_220', '39_20220303arpc3-mNG_homozygote_knockins_amp_213_215_seq_220_39'], ['40_20220303arpc3-mNG_homozygote_knockins_amp_213_215_seq_213', '40_20220303arpc3-mNG_homozygote_knockins_amp_213_215_seq_213_40'], ['41_20220303arpc3-mNG_homozygote_knockins_amp_213_215_seq_215', '41_20220303arpc3-mNG_homozygote_knockins_amp_213_215_seq_215_41'], ['42_20220303arpc3-mNG_homozygote_knockins_amp_213_215_seq_13', '42_20220303arpc3-mNG_homozygote_knockins_amp_213_215_seq_13_42'], ['43_20220303arpc3-mNG_homozygote_knockins_amp_213_215_seq_99', '43_20220303arpc3-mNG_homozygote_knockins_amp_213_215_seq_99_43'], ['44_20220303arpc3-mNG_homozygote_knockins_amp_213_215_seq_100', '44_20220303arpc3-mNG_homozygote_knockins_amp_213_215_seq_100_44'], ['45_20220303arpc3-mNG_homozygote_knockins_amp_213_215_seq_43', '45_20220303arpc3-mNG_homozygote_knockins_amp_213_215_seq_43_45'], ['46_20220303arpc3-mNG_homozygote_knockins_amp_213_215_seq_41', '46_20220303arpc3-mNG_homozygote_knockins_amp_213_215_seq_41_46'], ['47_20220303arpc3-mNG_homozygote_knockins_amp_213_215_seq_220', '47_20220303arpc3-mNG_homozygote_knockins_amp_213_215_seq_220_47'], ['48_20220303arpc3-mNG_homozygote_knockins_amp_213_215_seq_213', '48_20220303arpc3-mNG_homozygote_knockins_amp_213_215_seq_213_48'], ['49_20220303arpc3-mNG_homozygote_knockins_amp_213_215_seq_215', '49_20220303arpc3-mNG_homozygote_knockins_amp_213_215_seq_215_49'], ['50_20220303arpc3-mNG_homozygote_knockins_amp_213_215_seq_13', '50_20220303arpc3-mNG_homozygote_knockins_amp_213_215_seq_13_50'], ['51_20220303arpc3-mNG_homozygote_knockins_amp_213_215_seq_99', '51_20220303arpc3-mNG_homozygote_knockins_amp_213_215_seq_99_51'], ['52_20220303arpc3-mNG_homozygote_knockins_amp_213_215_seq_100', '52_20220303arpc3-mNG_homozygote_knockins_amp_213_215_seq_100_52'], ['53_20220303arpc3-mNG_homozygote_knockins_amp_213_215_seq_43', '53_20220303arpc3-mNG_homozygote_knockins_amp_213_215_seq_43_53'], ['54_20220303arpc3-mNG_homozygote_knockins_amp_213_215_seq_41', '54_20220303arpc3-mNG_homozygote_knockins_amp_213_215_seq_41_54'], ['55_20220303arpc3-mNG_homozygote_knockins_amp_213_215_seq_220', '55_20220303arpc3-mNG_homozygote_knockins_amp_213_215_seq_220_55'], ['56_20220303arpc3-mNG_homozygote_knockins_amp_213_215_seq_213', '56_20220303arpc3-mNG_homozygote_knockins_amp_213_215_seq_213_56']]_42-2_B06_046.ab1\"",
     "output_type": "error",
     "traceback": [
      "\u001b[0;31m---------------------------------------------------------------------------\u001b[0m",
      "\u001b[0;31mOSError\u001b[0m                                   Traceback (most recent call last)",
      "Input \u001b[0;32mIn [42]\u001b[0m, in \u001b[0;36m<module>\u001b[0;34m\u001b[0m\n\u001b[0;32m----> 1\u001b[0m \u001b[43mrenamer\u001b[49m\u001b[43m(\u001b[49m\u001b[38;5;124;43m\"\u001b[39;49m\u001b[38;5;124;43mTest Data/name_ref.csv\u001b[39;49m\u001b[38;5;124;43m\"\u001b[39;49m\u001b[43m,\u001b[49m\u001b[43m \u001b[49m\n\u001b[1;32m      2\u001b[0m \u001b[43m        \u001b[49m\u001b[38;5;124;43m\"\u001b[39;49m\u001b[38;5;124;43m/Users/ehuang/Downloads/EH\u001b[39;49m\u001b[38;5;124;43m\"\u001b[39;49m\u001b[43m,\u001b[49m\u001b[43m \u001b[49m\n\u001b[1;32m      3\u001b[0m \u001b[43m        \u001b[49m\u001b[38;5;124;43m\"\u001b[39;49m\u001b[38;5;124;43mTest Data/output_dir\u001b[39;49m\u001b[38;5;124;43m\"\u001b[39;49m\u001b[43m,\u001b[49m\u001b[43m \u001b[49m\n\u001b[1;32m      4\u001b[0m \u001b[43m        \u001b[49m\u001b[43mprepend\u001b[49m\u001b[38;5;241;43m=\u001b[39;49m\u001b[38;5;28;43;01mTrue\u001b[39;49;00m\u001b[43m,\u001b[49m\u001b[43m \u001b[49m\n\u001b[1;32m      5\u001b[0m \u001b[43m        \u001b[49m\u001b[43mfrom_gen\u001b[49m\u001b[38;5;241;43m=\u001b[39;49m\u001b[38;5;28;43;01mTrue\u001b[39;49;00m\u001b[43m)\u001b[49m\n",
      "Input \u001b[0;32mIn [40]\u001b[0m, in \u001b[0;36mrenamer\u001b[0;34m(ref_csv, input_path, output_path, prepend, from_gen)\u001b[0m\n\u001b[1;32m     39\u001b[0m \u001b[38;5;28;01melse\u001b[39;00m: \n\u001b[1;32m     40\u001b[0m     new_name \u001b[38;5;241m=\u001b[39m \u001b[38;5;124mf\u001b[39m\u001b[38;5;124m\"\u001b[39m\u001b[38;5;132;01m{\u001b[39;00moutput_path\u001b[38;5;132;01m}\u001b[39;00m\u001b[38;5;124m/\u001b[39m\u001b[38;5;132;01m{\u001b[39;00mnew_name\u001b[38;5;132;01m}\u001b[39;00m\u001b[38;5;124m_\u001b[39m\u001b[38;5;132;01m{\u001b[39;00mab_files[i]\u001b[38;5;132;01m}\u001b[39;00m\u001b[38;5;124m\"\u001b[39m\n\u001b[0;32m---> 41\u001b[0m \u001b[43mos\u001b[49m\u001b[38;5;241;43m.\u001b[39;49m\u001b[43mrename\u001b[49m\u001b[43m(\u001b[49m\u001b[43msrc\u001b[49m\u001b[38;5;241;43m=\u001b[39;49m\u001b[43mnew_path\u001b[49m\u001b[43m,\u001b[49m\u001b[43m \u001b[49m\u001b[43mdst\u001b[49m\u001b[38;5;241;43m=\u001b[39;49m\u001b[43mnew_name\u001b[49m\u001b[43m)\u001b[49m\n",
      "\u001b[0;31mOSError\u001b[0m: [Errno 63] File name too long: 'Test Data/output_dir/42-2_B06_046.ab1' -> \"Test Data/output_dir/[['1_20220303arpc3-mNG_homozygote_knockins_amp_213_215_seq_215', '1_20220303arpc3-mNG_homozygote_knockins_amp_213_215_seq_215_1'], ['2_20220303arpc3-mNG_homozygote_knockins_amp_213_215_seq_13', '2_20220303arpc3-mNG_homozygote_knockins_amp_213_215_seq_13_2'], ['3_20220303arpc3-mNG_homozygote_knockins_amp_213_215_seq_99', '3_20220303arpc3-mNG_homozygote_knockins_amp_213_215_seq_99_3'], ['4_20220303arpc3-mNG_homozygote_knockins_amp_213_215_seq_100', '4_20220303arpc3-mNG_homozygote_knockins_amp_213_215_seq_100_4'], ['5_20220303arpc3-mNG_homozygote_knockins_amp_213_215_seq_43', '5_20220303arpc3-mNG_homozygote_knockins_amp_213_215_seq_43_5'], ['6_20220303arpc3-mNG_homozygote_knockins_amp_213_215_seq_41', '6_20220303arpc3-mNG_homozygote_knockins_amp_213_215_seq_41_6'], ['7_20220303arpc3-mNG_homozygote_knockins_amp_213_215_seq_220', '7_20220303arpc3-mNG_homozygote_knockins_amp_213_215_seq_220_7'], ['8_20220303arpc3-mNG_homozygote_knockins_amp_213_215_seq_213', '8_20220303arpc3-mNG_homozygote_knockins_amp_213_215_seq_213_8'], ['9_20220303arpc3-mNG_homozygote_knockins_amp_213_215_seq_215', '9_20220303arpc3-mNG_homozygote_knockins_amp_213_215_seq_215_9'], ['10_20220303arpc3-mNG_homozygote_knockins_amp_213_215_seq_13', '10_20220303arpc3-mNG_homozygote_knockins_amp_213_215_seq_13_10'], ['11_20220303arpc3-mNG_homozygote_knockins_amp_213_215_seq_99', '11_20220303arpc3-mNG_homozygote_knockins_amp_213_215_seq_99_11'], ['12_20220303arpc3-mNG_homozygote_knockins_amp_213_215_seq_100', '12_20220303arpc3-mNG_homozygote_knockins_amp_213_215_seq_100_12'], ['13_20220303arpc3-mNG_homozygote_knockins_amp_213_215_seq_43', '13_20220303arpc3-mNG_homozygote_knockins_amp_213_215_seq_43_13'], ['14_20220303arpc3-mNG_homozygote_knockins_amp_213_215_seq_41', '14_20220303arpc3-mNG_homozygote_knockins_amp_213_215_seq_41_14'], ['15_20220303arpc3-mNG_homozygote_knockins_amp_213_215_seq_220', '15_20220303arpc3-mNG_homozygote_knockins_amp_213_215_seq_220_15'], ['16_20220303arpc3-mNG_homozygote_knockins_amp_213_215_seq_213', '16_20220303arpc3-mNG_homozygote_knockins_amp_213_215_seq_213_16'], ['17_20220303arpc3-mNG_homozygote_knockins_amp_213_215_seq_215', '17_20220303arpc3-mNG_homozygote_knockins_amp_213_215_seq_215_17'], ['18_20220303arpc3-mNG_homozygote_knockins_amp_213_215_seq_13', '18_20220303arpc3-mNG_homozygote_knockins_amp_213_215_seq_13_18'], ['19_20220303arpc3-mNG_homozygote_knockins_amp_213_215_seq_99', '19_20220303arpc3-mNG_homozygote_knockins_amp_213_215_seq_99_19'], ['20_20220303arpc3-mNG_homozygote_knockins_amp_213_215_seq_100', '20_20220303arpc3-mNG_homozygote_knockins_amp_213_215_seq_100_20'], ['21_20220303arpc3-mNG_homozygote_knockins_amp_213_215_seq_43', '21_20220303arpc3-mNG_homozygote_knockins_amp_213_215_seq_43_21'], ['22_20220303arpc3-mNG_homozygote_knockins_amp_213_215_seq_41', '22_20220303arpc3-mNG_homozygote_knockins_amp_213_215_seq_41_22'], ['23_20220303arpc3-mNG_homozygote_knockins_amp_213_215_seq_220', '23_20220303arpc3-mNG_homozygote_knockins_amp_213_215_seq_220_23'], ['24_20220303arpc3-mNG_homozygote_knockins_amp_213_215_seq_213', '24_20220303arpc3-mNG_homozygote_knockins_amp_213_215_seq_213_24'], ['25_20220303arpc3-mNG_homozygote_knockins_amp_213_215_seq_215', '25_20220303arpc3-mNG_homozygote_knockins_amp_213_215_seq_215_25'], ['26_20220303arpc3-mNG_homozygote_knockins_amp_213_215_seq_13', '26_20220303arpc3-mNG_homozygote_knockins_amp_213_215_seq_13_26'], ['27_20220303arpc3-mNG_homozygote_knockins_amp_213_215_seq_99', '27_20220303arpc3-mNG_homozygote_knockins_amp_213_215_seq_99_27'], ['28_20220303arpc3-mNG_homozygote_knockins_amp_213_215_seq_100', '28_20220303arpc3-mNG_homozygote_knockins_amp_213_215_seq_100_28'], ['29_20220303arpc3-mNG_homozygote_knockins_amp_213_215_seq_43', '29_20220303arpc3-mNG_homozygote_knockins_amp_213_215_seq_43_29'], ['30_20220303arpc3-mNG_homozygote_knockins_amp_213_215_seq_41', '30_20220303arpc3-mNG_homozygote_knockins_amp_213_215_seq_41_30'], ['31_20220303arpc3-mNG_homozygote_knockins_amp_213_215_seq_220', '31_20220303arpc3-mNG_homozygote_knockins_amp_213_215_seq_220_31'], ['32_20220303arpc3-mNG_homozygote_knockins_amp_213_215_seq_213', '32_20220303arpc3-mNG_homozygote_knockins_amp_213_215_seq_213_32'], ['33_20220303arpc3-mNG_homozygote_knockins_amp_213_215_seq_215', '33_20220303arpc3-mNG_homozygote_knockins_amp_213_215_seq_215_33'], ['34_20220303arpc3-mNG_homozygote_knockins_amp_213_215_seq_13', '34_20220303arpc3-mNG_homozygote_knockins_amp_213_215_seq_13_34'], ['35_20220303arpc3-mNG_homozygote_knockins_amp_213_215_seq_99', '35_20220303arpc3-mNG_homozygote_knockins_amp_213_215_seq_99_35'], ['36_20220303arpc3-mNG_homozygote_knockins_amp_213_215_seq_100', '36_20220303arpc3-mNG_homozygote_knockins_amp_213_215_seq_100_36'], ['37_20220303arpc3-mNG_homozygote_knockins_amp_213_215_seq_43', '37_20220303arpc3-mNG_homozygote_knockins_amp_213_215_seq_43_37'], ['38_20220303arpc3-mNG_homozygote_knockins_amp_213_215_seq_41', '38_20220303arpc3-mNG_homozygote_knockins_amp_213_215_seq_41_38'], ['39_20220303arpc3-mNG_homozygote_knockins_amp_213_215_seq_220', '39_20220303arpc3-mNG_homozygote_knockins_amp_213_215_seq_220_39'], ['40_20220303arpc3-mNG_homozygote_knockins_amp_213_215_seq_213', '40_20220303arpc3-mNG_homozygote_knockins_amp_213_215_seq_213_40'], ['41_20220303arpc3-mNG_homozygote_knockins_amp_213_215_seq_215', '41_20220303arpc3-mNG_homozygote_knockins_amp_213_215_seq_215_41'], ['42_20220303arpc3-mNG_homozygote_knockins_amp_213_215_seq_13', '42_20220303arpc3-mNG_homozygote_knockins_amp_213_215_seq_13_42'], ['43_20220303arpc3-mNG_homozygote_knockins_amp_213_215_seq_99', '43_20220303arpc3-mNG_homozygote_knockins_amp_213_215_seq_99_43'], ['44_20220303arpc3-mNG_homozygote_knockins_amp_213_215_seq_100', '44_20220303arpc3-mNG_homozygote_knockins_amp_213_215_seq_100_44'], ['45_20220303arpc3-mNG_homozygote_knockins_amp_213_215_seq_43', '45_20220303arpc3-mNG_homozygote_knockins_amp_213_215_seq_43_45'], ['46_20220303arpc3-mNG_homozygote_knockins_amp_213_215_seq_41', '46_20220303arpc3-mNG_homozygote_knockins_amp_213_215_seq_41_46'], ['47_20220303arpc3-mNG_homozygote_knockins_amp_213_215_seq_220', '47_20220303arpc3-mNG_homozygote_knockins_amp_213_215_seq_220_47'], ['48_20220303arpc3-mNG_homozygote_knockins_amp_213_215_seq_213', '48_20220303arpc3-mNG_homozygote_knockins_amp_213_215_seq_213_48'], ['49_20220303arpc3-mNG_homozygote_knockins_amp_213_215_seq_215', '49_20220303arpc3-mNG_homozygote_knockins_amp_213_215_seq_215_49'], ['50_20220303arpc3-mNG_homozygote_knockins_amp_213_215_seq_13', '50_20220303arpc3-mNG_homozygote_knockins_amp_213_215_seq_13_50'], ['51_20220303arpc3-mNG_homozygote_knockins_amp_213_215_seq_99', '51_20220303arpc3-mNG_homozygote_knockins_amp_213_215_seq_99_51'], ['52_20220303arpc3-mNG_homozygote_knockins_amp_213_215_seq_100', '52_20220303arpc3-mNG_homozygote_knockins_amp_213_215_seq_100_52'], ['53_20220303arpc3-mNG_homozygote_knockins_amp_213_215_seq_43', '53_20220303arpc3-mNG_homozygote_knockins_amp_213_215_seq_43_53'], ['54_20220303arpc3-mNG_homozygote_knockins_amp_213_215_seq_41', '54_20220303arpc3-mNG_homozygote_knockins_amp_213_215_seq_41_54'], ['55_20220303arpc3-mNG_homozygote_knockins_amp_213_215_seq_220', '55_20220303arpc3-mNG_homozygote_knockins_amp_213_215_seq_220_55'], ['56_20220303arpc3-mNG_homozygote_knockins_amp_213_215_seq_213', '56_20220303arpc3-mNG_homozygote_knockins_amp_213_215_seq_213_56']]_42-2_B06_046.ab1\""
     ]
    }
   ],
   "source": [
    "renamer(\"Test Data/name_ref.csv\", \n",
    "        \"/Users/ehuang/Downloads/EH\", \n",
    "        \"Test Data/output_dir\", \n",
    "        prepend=True, \n",
    "        from_gen=True)\n",
    "\n"
   ]
  },
  {
   "cell_type": "code",
   "execution_count": 30,
   "id": "19f72239-5a75-4773-aa33-e8b4191188b4",
   "metadata": {},
   "outputs": [
    {
     "data": {
      "text/plain": [
       "'\\nTODO: \\n\\nupload file instead of having user input path? widgets.FileUpload\\n\\n'"
      ]
     },
     "execution_count": 30,
     "metadata": {},
     "output_type": "execute_result"
    }
   ],
   "source": [
    "\"\"\"\n",
    "TODO: \n",
    "\n",
    "figure out plug in\n",
    "\n",
    "upload file instead of having user input path? widgets.FileUpload\n",
    "\n",
    "\"\"\""
   ]
  },
  {
   "cell_type": "code",
   "execution_count": null,
   "id": "48959788-53c3-45c1-94d3-1058aae2424e",
   "metadata": {},
   "outputs": [],
   "source": []
  }
 ],
 "metadata": {
  "kernelspec": {
   "display_name": "Python 3 (ipykernel)",
   "language": "python",
   "name": "python3"
  },
  "language_info": {
   "codemirror_mode": {
    "name": "ipython",
    "version": 3
   },
   "file_extension": ".py",
   "mimetype": "text/x-python",
   "name": "python",
   "nbconvert_exporter": "python",
   "pygments_lexer": "ipython3",
   "version": "3.9.10"
  }
 },
 "nbformat": 4,
 "nbformat_minor": 5
}
