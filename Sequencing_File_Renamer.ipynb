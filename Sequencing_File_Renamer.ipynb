{
 "cells": [
  {
   "cell_type": "markdown",
   "id": "7eaf62d0-4c00-468d-9e65-a6dbe8fa57f9",
   "metadata": {},
   "source": [
    "# File Renamer\n",
    "\n",
    "## Evan Huang, Swinburne Lab, UC Berkeley\n",
    "\n",
    "This program renames all files in a directory of sequencing data based on a user-inputted reference csv. It will make a copy of the renamed data with a copy of the original data. Note this program will not work with versions of Python older than 3.8. \n",
    "\n",
    "[Setup Guide](https://docs.google.com/document/d/1nstSoI9pFRei7pu8AAqdtOgbb1B34kcdZqy_U5lsKfM/edit?usp=sharing)"
   ]
  },
  {
   "cell_type": "code",
   "execution_count": 58,
   "id": "de73507d-da83-44f3-b869-9b1be91afb82",
   "metadata": {},
   "outputs": [],
   "source": [
    "import Sequencing_File_Renamer as sfr"
   ]
  },
  {
   "cell_type": "markdown",
   "id": "1c647f04-0696-415e-b53b-0eff66a5a657",
   "metadata": {},
   "source": [
    "\"Renamer\" is the function that renames the files. See the setup guide and examples below for more information. The source code can be found in Sequencing_File_Renamer.py. \n",
    "\n",
    "This function takes in the path to the reference csv, the path to the sequencing files directory, and the output path. It searches for the index of each file in the original directory by looking for the number after a dash in each files name, so please ensure the file indices correspond in your input csv. The suffix variable should be set to whatever file type you would like to rename ('.ab1', '.seq', etc.)  or 'both' if you want to rename .ab1 and .seq files. \n",
    "\n",
    "If you would like to split these copied files into folders based on its clone, you can set the make_folders variable to True. If you do this, please make sure to set the clone_id to be whatever identifier is marked before the clone number (it is set by default to be 'clone'). For example, if a renamed file is called \"geneX_amp_1_2_seq_23_clone_3,\" it would be copied into a folder called \"clone_3.\" If the file is named \"geneX_amp_1_2_seq_23_fish_3,\" make sure to set clone_id to be 'fish' and it will be sorted into a \"fish_3\" folder. "
   ]
  },
  {
   "cell_type": "markdown",
   "id": "29a914a1-7de1-45ce-8d2d-010dfd68e0ea",
   "metadata": {},
   "source": [
    "# [Setup Guide](https://docs.google.com/document/d/1nstSoI9pFRei7pu8AAqdtOgbb1B34kcdZqy_U5lsKfM/edit?usp=sharing)\n",
    "This guide contains step-by-step instructions to run this renamer. Please be sure to read it in its entirety to ensure the program works as intended. Below are example runs of the renamer, including a widget for the function. "
   ]
  },
  {
   "cell_type": "code",
   "execution_count": 59,
   "id": "c3eb34ba-a60c-44db-91cf-10ed3fd172af",
   "metadata": {},
   "outputs": [
    {
     "data": {
      "application/vnd.jupyter.widget-view+json": {
       "model_id": "80a247473d3f4f0dafa5905b60cd710b",
       "version_major": 2,
       "version_minor": 0
      },
      "text/plain": [
       "interactive(children=(Text(value='', description='ref_csv'), Text(value='', description='input_path'), Text(va…"
      ]
     },
     "metadata": {},
     "output_type": "display_data"
    },
    {
     "data": {
      "text/plain": [
       "<function Sequencing_File_Renamer.renamer(ref_csv, input_path, output_path, suffix, prepend=False, make_folders=False, clone_id='clone')>"
      ]
     },
     "execution_count": 59,
     "metadata": {},
     "output_type": "execute_result"
    }
   ],
   "source": [
    "widgets.interact_manual(sfr.renamer, \n",
    "                 ref_csv=\"\", \n",
    "                 input_path=\"\", \n",
    "                 output_path=\"\",\n",
    "                 suffix=\"\",\n",
    "                 prepend=\"\")"
   ]
  },
  {
   "cell_type": "code",
   "execution_count": 60,
   "id": "d155b296-e342-4575-8528-8ce2e8059980",
   "metadata": {},
   "outputs": [],
   "source": [
    "sfr.renamer(\"Test Data/gen_name_ref.csv\", \n",
    "        \"Test Data/files_to_rename\", \n",
    "        \"Test Data/output_dir\", \n",
    "        \"both\", \n",
    "       make_folders=True)\n",
    "\n"
   ]
  },
  {
   "cell_type": "code",
   "execution_count": null,
   "id": "d0b2454c-340c-481f-8a78-013f8e67ba5c",
   "metadata": {},
   "outputs": [],
   "source": []
  },
  {
   "cell_type": "code",
   "execution_count": null,
   "id": "b376a7cb-b1f1-4113-be3a-731e64f17ba2",
   "metadata": {},
   "outputs": [],
   "source": []
  }
 ],
 "metadata": {
  "kernelspec": {
   "display_name": "Python 3 (ipykernel)",
   "language": "python",
   "name": "python3"
  },
  "language_info": {
   "codemirror_mode": {
    "name": "ipython",
    "version": 3
   },
   "file_extension": ".py",
   "mimetype": "text/x-python",
   "name": "python",
   "nbconvert_exporter": "python",
   "pygments_lexer": "ipython3",
   "version": "3.9.7"
  }
 },
 "nbformat": 4,
 "nbformat_minor": 5
}
